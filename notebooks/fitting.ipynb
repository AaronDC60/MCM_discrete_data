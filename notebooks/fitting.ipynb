{
 "cells": [
  {
   "cell_type": "markdown",
   "metadata": {},
   "source": [
    "## Parameter fitting of Ising model for Suppreme court voting data"
   ]
  },
  {
   "cell_type": "markdown",
   "metadata": {},
   "source": [
    "#### Imports"
   ]
  },
  {
   "cell_type": "code",
   "execution_count": 1,
   "metadata": {},
   "outputs": [],
   "source": [
    "import sys\n",
    "sys.path.insert(0, '../')\n",
    "from src.spin_models import ising_model\n",
    "\n",
    "import numpy as np"
   ]
  },
  {
   "cell_type": "code",
   "execution_count": 2,
   "metadata": {},
   "outputs": [],
   "source": [
    "# Create model\n",
    "model = ising_model('../data/SC_voting/US_SupremeCourt_n9_N895.txt')"
   ]
  },
  {
   "cell_type": "code",
   "execution_count": 3,
   "metadata": {},
   "outputs": [],
   "source": [
    "# Model fitting\n",
    "model.fit_param()"
   ]
  },
  {
   "cell_type": "code",
   "execution_count": 4,
   "metadata": {},
   "outputs": [],
   "source": [
    "# Compare parameters with reference\n",
    "h = np.loadtxt('../data/SC_voting/hi_ussc_unsorted.txt')\n",
    "j = np.loadtxt('../data/SC_voting/Jij_ussc_unsorted.txt')"
   ]
  },
  {
   "cell_type": "code",
   "execution_count": 5,
   "metadata": {},
   "outputs": [
    {
     "name": "stdout",
     "output_type": "stream",
     "text": [
      "All values are close to the reference solution\n"
     ]
    }
   ],
   "source": [
    "# Check the h values\n",
    "for i in range(len(h)):\n",
    "    if abs(h[i] - model.param[np.argwhere(model.spin_op == 2**i)][0,0]) > 1E-3:\n",
    "        print('Not equal')\n",
    "        break\n",
    "    if i == len(h) - 1:\n",
    "        print('All values are close to the reference solution')"
   ]
  },
  {
   "cell_type": "code",
   "execution_count": 6,
   "metadata": {},
   "outputs": [
    {
     "name": "stdout",
     "output_type": "stream",
     "text": [
      "All values are close to the reference solution\n"
     ]
    }
   ],
   "source": [
    "# Check the j values\n",
    "counter = 0\n",
    "for i in range(len(h)):\n",
    "    value_1 = 2**i\n",
    "    for k in range(i+1, len(h)):\n",
    "        value = value_1 + 2**k\n",
    "        if abs(model.param[np.argwhere(model.spin_op == value)[0,0]] - j[counter]) > 1E-2:\n",
    "            print('Not equal')\n",
    "            break\n",
    "        counter += 1\n",
    "    if i == len(h) - 1:\n",
    "        print('All values are close to the reference solution')"
   ]
  }
 ],
 "metadata": {
  "kernelspec": {
   "display_name": "base",
   "language": "python",
   "name": "python3"
  },
  "language_info": {
   "codemirror_mode": {
    "name": "ipython",
    "version": 3
   },
   "file_extension": ".py",
   "mimetype": "text/x-python",
   "name": "python",
   "nbconvert_exporter": "python",
   "pygments_lexer": "ipython3",
   "version": "3.11.5"
  }
 },
 "nbformat": 4,
 "nbformat_minor": 2
}
