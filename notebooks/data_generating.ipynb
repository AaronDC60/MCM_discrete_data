{
 "cells": [
  {
   "cell_type": "markdown",
   "metadata": {},
   "source": [
    "## Generating data from a discrete model"
   ]
  },
  {
   "cell_type": "code",
   "execution_count": null,
   "metadata": {},
   "outputs": [],
   "source": [
    "# Imports\n",
    "import numpy as np"
   ]
  },
  {
   "cell_type": "markdown",
   "metadata": {},
   "source": [
    "### Effect of the interaction strength on the probability of states"
   ]
  },
  {
   "cell_type": "code",
   "execution_count": 6,
   "metadata": {},
   "outputs": [],
   "source": [
    "# Settings\n",
    "q = 3\n",
    "n = 2"
   ]
  },
  {
   "cell_type": "code",
   "execution_count": 7,
   "metadata": {},
   "outputs": [],
   "source": [
    "# Function to construct spin operator matrix\n",
    "def construct_s(q):\n",
    "    S = np.ones((q, q), dtype=complex)\n",
    "    for i in range(q):\n",
    "        for j in range(i, q):\n",
    "            S[i,j] = np.exp(((i*j)*2j*np.pi) / q)\n",
    "            S[j,i] = S[i,j]\n",
    "    return S"
   ]
  },
  {
   "cell_type": "code",
   "execution_count": 8,
   "metadata": {},
   "outputs": [],
   "source": [
    "# Perform kronecker product to get q**n x q**n matrix\n",
    "S = construct_s(q)\n",
    "S_matrix = np.copy(S)\n",
    "for _ in range(n-1):\n",
    "    S_matrix = np.kron(S_matrix, S)"
   ]
  },
  {
   "cell_type": "markdown",
   "metadata": {},
   "source": [
    "#### Single first order interaction"
   ]
  },
  {
   "cell_type": "code",
   "execution_count": 19,
   "metadata": {},
   "outputs": [
    {
     "name": "stdout",
     "output_type": "stream",
     "text": [
      "S(alpha):  [-0.5 -0.5  1. ]\n",
      "P(alpha):  [0.15428077 0.15428077 0.69143845]\n"
     ]
    }
   ],
   "source": [
    "# Magnitude\n",
    "r = .5\n",
    "\n",
    "# Angle\n",
    "theta = 2 * np.pi / 3 # Aligns for states alpha @ mu = 2 mod q\n",
    "\n",
    "g = np.zeros(q, dtype=complex)\n",
    "g[1] = r * (np.cos(theta) + np.sin(theta) * 1j)\n",
    "g[2] = r* (np.cos(theta) - np.sin(theta) * 1j)\n",
    "\n",
    "print('S(alpha): ', (S @ g).real)\n",
    "\n",
    "p = np.exp(S @ g)\n",
    "print('P(alpha): ', (p / np.sum(p)).real)"
   ]
  },
  {
   "cell_type": "code",
   "execution_count": 14,
   "metadata": {},
   "outputs": [
    {
     "name": "stdout",
     "output_type": "stream",
     "text": [
      "S(alpha):  [-1. -1.  2.]\n",
      "P(alpha):  [0.0452785 0.0452785 0.909443 ]\n"
     ]
    }
   ],
   "source": [
    "# Magnitude\n",
    "r = 1\n",
    "\n",
    "# Angle\n",
    "theta = 2 * np.pi / 3 # Aligns for states alpha @ mu = 2 mod q\n",
    "\n",
    "g = np.zeros(q, dtype=complex)\n",
    "g[1] = r * (np.cos(theta) + np.sin(theta) * 1j)\n",
    "g[2] = r* (np.cos(theta) - np.sin(theta) * 1j)\n",
    "\n",
    "print('S(alpha): ', (S @ g).real)\n",
    "\n",
    "p = np.exp(S @ g)\n",
    "print('P(alpha): ', (p / np.sum(p)).real)"
   ]
  },
  {
   "cell_type": "code",
   "execution_count": 20,
   "metadata": {},
   "outputs": [
    {
     "name": "stdout",
     "output_type": "stream",
     "text": [
      "S(alpha):  [-2. -2.  4.]\n",
      "P(alpha):  [0.00246652 0.00246652 0.99506695]\n"
     ]
    }
   ],
   "source": [
    "# Magnitude\n",
    "r = 2\n",
    "\n",
    "# Angle\n",
    "theta = 2 * np.pi / 3 # Aligns for states alpha @ mu = 2 mod q\n",
    "\n",
    "g = np.zeros(q, dtype=complex)\n",
    "g[1] = r * (np.cos(theta) + np.sin(theta) * 1j)\n",
    "g[2] = r* (np.cos(theta) - np.sin(theta) * 1j)\n",
    "\n",
    "print('S(alpha): ', (S @ g).real)\n",
    "\n",
    "p = np.exp(S @ g)\n",
    "print('P(alpha): ', (p / np.sum(p)).real)"
   ]
  },
  {
   "cell_type": "markdown",
   "metadata": {},
   "source": [
    "#### Single second-order interaction"
   ]
  },
  {
   "cell_type": "markdown",
   "metadata": {},
   "source": [
    "##### $g_{11}$ and $g_{22}$"
   ]
  },
  {
   "cell_type": "code",
   "execution_count": 23,
   "metadata": {},
   "outputs": [
    {
     "name": "stdout",
     "output_type": "stream",
     "text": [
      "S(alpha):  [-0.5  1.  -0.5  1.  -0.5 -0.5 -0.5 -0.5  1. ]\n",
      "P(alpha):  [0.05142692 0.23047948 0.05142692 0.23047948 0.05142692 0.05142692\n",
      " 0.05142692 0.05142692 0.23047948]\n"
     ]
    }
   ],
   "source": [
    "# Magnitude\n",
    "r = 0.5\n",
    "\n",
    "# Angle\n",
    "theta = 4 * np.pi / 3 # Aligns for states alpha @ mu = 1 mod q\n",
    "\n",
    "g = np.zeros(q**n, dtype=complex)\n",
    "g[4] = r * (np.cos(theta) + np.sin(theta) * 1j)\n",
    "g[8] = r* (np.cos(theta) - np.sin(theta) * 1j)\n",
    "\n",
    "print('S(alpha): ', (S_matrix @ g).real)\n",
    "\n",
    "p = np.exp(S_matrix @ g)\n",
    "print('P(alpha): ', (p / np.sum(p)).real)"
   ]
  },
  {
   "cell_type": "code",
   "execution_count": 24,
   "metadata": {},
   "outputs": [
    {
     "name": "stdout",
     "output_type": "stream",
     "text": [
      "S(alpha):  [-1.  2. -1.  2. -1. -1. -1. -1.  2.]\n",
      "P(alpha):  [0.01509283 0.30314767 0.01509283 0.30314767 0.01509283 0.01509283\n",
      " 0.01509283 0.01509283 0.30314767]\n"
     ]
    }
   ],
   "source": [
    "# Magnitude\n",
    "r = 1\n",
    "\n",
    "# Angle\n",
    "theta = 4 * np.pi / 3 # Aligns for states alpha @ mu = 1 mod q\n",
    "\n",
    "g = np.zeros(q**n, dtype=complex)\n",
    "g[4] = r * (np.cos(theta) + np.sin(theta) * 1j)\n",
    "g[8] = r* (np.cos(theta) - np.sin(theta) * 1j)\n",
    "\n",
    "print('S(alpha): ', (S_matrix @ g).real)\n",
    "\n",
    "p = np.exp(S_matrix @ g)\n",
    "print('P(alpha): ', (p / np.sum(p)).real)"
   ]
  },
  {
   "cell_type": "code",
   "execution_count": 25,
   "metadata": {},
   "outputs": [
    {
     "name": "stdout",
     "output_type": "stream",
     "text": [
      "S(alpha):  [-2.  4. -2.  4. -2. -2. -2. -2.  4.]\n",
      "P(alpha):  [0.00082217 0.33168898 0.00082217 0.33168898 0.00082217 0.00082217\n",
      " 0.00082217 0.00082217 0.33168898]\n"
     ]
    }
   ],
   "source": [
    "# Magnitude\n",
    "r = 2\n",
    "\n",
    "# Angle\n",
    "theta = 4 * np.pi / 3 # Aligns for states alpha @ mu = 1 mod q\n",
    "\n",
    "g = np.zeros(q**n, dtype=complex)\n",
    "g[4] = r * (np.cos(theta) + np.sin(theta) * 1j)\n",
    "g[8] = r* (np.cos(theta) - np.sin(theta) * 1j)\n",
    "\n",
    "print('S(alpha): ', (S_matrix @ g).real)\n",
    "\n",
    "p = np.exp(S_matrix @ g)\n",
    "print('P(alpha): ', (p / np.sum(p)).real)"
   ]
  },
  {
   "cell_type": "markdown",
   "metadata": {},
   "source": [
    "##### $g_{12}$ and $g_{21}$"
   ]
  },
  {
   "cell_type": "code",
   "execution_count": 27,
   "metadata": {},
   "outputs": [
    {
     "name": "stdout",
     "output_type": "stream",
     "text": [
      "S(alpha):  [-0.5 -0.5  1.   1.  -0.5 -0.5 -0.5  1.  -0.5]\n",
      "P(alpha):  [0.05142692 0.05142692 0.23047948 0.23047948 0.05142692 0.05142692\n",
      " 0.05142692 0.23047948 0.05142692]\n"
     ]
    }
   ],
   "source": [
    "# Magnitude\n",
    "r = 0.5\n",
    "\n",
    "# Angle\n",
    "theta = 4 * np.pi / 3 # Aligns for states alpha @ mu = 1 mod q\n",
    "\n",
    "g = np.zeros(q**n, dtype=complex)\n",
    "g[5] = r * (np.cos(theta) + np.sin(theta) * 1j)\n",
    "g[7] = r* (np.cos(theta) - np.sin(theta) * 1j)\n",
    "\n",
    "print('S(alpha): ', (S_matrix @ g).real)\n",
    "\n",
    "p = np.exp(S_matrix @ g)\n",
    "print('P(alpha): ', (p / np.sum(p)).real)"
   ]
  },
  {
   "cell_type": "code",
   "execution_count": 26,
   "metadata": {},
   "outputs": [
    {
     "name": "stdout",
     "output_type": "stream",
     "text": [
      "S(alpha):  [-1. -1.  2.  2. -1. -1. -1.  2. -1.]\n",
      "P(alpha):  [0.01509283 0.01509283 0.30314767 0.30314767 0.01509283 0.01509283\n",
      " 0.01509283 0.30314767 0.01509283]\n"
     ]
    }
   ],
   "source": [
    "# Magnitude\n",
    "r = 1\n",
    "\n",
    "# Angle\n",
    "theta = 4 * np.pi / 3 # Aligns for states alpha @ mu = 1 mod q\n",
    "\n",
    "g = np.zeros(q**n, dtype=complex)\n",
    "g[5] = r * (np.cos(theta) + np.sin(theta) * 1j)\n",
    "g[7] = r* (np.cos(theta) - np.sin(theta) * 1j)\n",
    "\n",
    "print('S(alpha): ', (S_matrix @ g).real)\n",
    "\n",
    "p = np.exp(S_matrix @ g)\n",
    "print('P(alpha): ', (p / np.sum(p)).real)"
   ]
  },
  {
   "cell_type": "code",
   "execution_count": 28,
   "metadata": {},
   "outputs": [
    {
     "name": "stdout",
     "output_type": "stream",
     "text": [
      "S(alpha):  [-2. -2.  4.  4. -2. -2. -2.  4. -2.]\n",
      "P(alpha):  [0.00082217 0.00082217 0.33168898 0.33168898 0.00082217 0.00082217\n",
      " 0.00082217 0.33168898 0.00082217]\n"
     ]
    }
   ],
   "source": [
    "# Magnitude\n",
    "r = 2\n",
    "\n",
    "# Angle\n",
    "theta = 4 * np.pi / 3 # Aligns for states alpha @ mu = 1 mod q\n",
    "\n",
    "g = np.zeros(q**n, dtype=complex)\n",
    "g[5] = r * (np.cos(theta) + np.sin(theta) * 1j)\n",
    "g[7] = r* (np.cos(theta) - np.sin(theta) * 1j)\n",
    "\n",
    "print('S(alpha): ', (S_matrix @ g).real)\n",
    "\n",
    "p = np.exp(S_matrix @ g)\n",
    "print('P(alpha): ', (p / np.sum(p)).real)"
   ]
  },
  {
   "cell_type": "markdown",
   "metadata": {},
   "source": [
    "#### Two first-order interactions"
   ]
  },
  {
   "cell_type": "code",
   "execution_count": 29,
   "metadata": {},
   "outputs": [
    {
     "name": "stdout",
     "output_type": "stream",
     "text": [
      "S(alpha):  [-1.  -1.   0.5  0.5  0.5  2.  -1.  -1.   0.5]\n",
      "P(alpha):  [0.02380256 0.02380256 0.10667566 0.10667566 0.10667566 0.47808714\n",
      " 0.02380256 0.02380256 0.10667566]\n"
     ]
    }
   ],
   "source": [
    "# Magnitude\n",
    "r = 0.5\n",
    "\n",
    "# Angle\n",
    "theta1 = 2 * np.pi / 3 # Aligns for states alpha @ mu = 2 mod q\n",
    "theta2 = 4 * np.pi / 3 # Aligns for states alpha @ mu = 2 mod q\n",
    "\n",
    "g = np.zeros(q**n, dtype=complex)\n",
    "g[1] = r * (np.cos(theta1) + np.sin(theta1) * 1j)\n",
    "g[2] = r* (np.cos(theta1) - np.sin(theta1) * 1j)\n",
    "\n",
    "g[3] = r * (np.cos(theta2) + np.sin(theta2) * 1j)\n",
    "g[6] = r* (np.cos(theta2) - np.sin(theta2) * 1j)\n",
    "\n",
    "print('S(alpha): ', (S_matrix @ g).real)\n",
    "\n",
    "p = np.exp(S_matrix @ g)\n",
    "print('P(alpha): ', (p / np.sum(p)).real)"
   ]
  },
  {
   "cell_type": "code",
   "execution_count": 30,
   "metadata": {},
   "outputs": [
    {
     "name": "stdout",
     "output_type": "stream",
     "text": [
      "S(alpha):  [-2. -2.  1.  1.  1.  4. -2. -2.  1.]\n",
      "P(alpha):  [0.00205014 0.00205014 0.04117822 0.04117822 0.04117822 0.82708657\n",
      " 0.00205014 0.00205014 0.04117822]\n"
     ]
    }
   ],
   "source": [
    "# Magnitude\n",
    "r = 1\n",
    "\n",
    "# Angle\n",
    "theta1 = 2 * np.pi / 3 # Aligns for states alpha @ mu = 2 mod q\n",
    "theta2 = 4 * np.pi / 3 # Aligns for states alpha @ mu = 2 mod q\n",
    "\n",
    "g = np.zeros(q**n, dtype=complex)\n",
    "g[1] = r * (np.cos(theta1) + np.sin(theta1) * 1j)\n",
    "g[2] = r* (np.cos(theta1) - np.sin(theta1) * 1j)\n",
    "\n",
    "g[3] = r * (np.cos(theta2) + np.sin(theta2) * 1j)\n",
    "g[6] = r* (np.cos(theta2) - np.sin(theta2) * 1j)\n",
    "\n",
    "print('S(alpha): ', (S_matrix @ g).real)\n",
    "\n",
    "p = np.exp(S_matrix @ g)\n",
    "print('P(alpha): ', (p / np.sum(p)).real)"
   ]
  },
  {
   "cell_type": "code",
   "execution_count": 31,
   "metadata": {},
   "outputs": [
    {
     "name": "stdout",
     "output_type": "stream",
     "text": [
      "S(alpha):  [-4. -4.  2.  2.  2.  8. -4. -4.  2.]\n",
      "P(alpha):  [6.08374247e-06 6.08374247e-06 2.45435689e-03 2.45435689e-03\n",
      " 2.45435689e-03 9.90158237e-01 6.08374247e-06 6.08374247e-06\n",
      " 2.45435689e-03]\n"
     ]
    }
   ],
   "source": [
    "# Magnitude\n",
    "r = 2\n",
    "\n",
    "# Angle\n",
    "theta1 = 2 * np.pi / 3 # Aligns for states alpha @ mu = 2 mod q\n",
    "theta2 = 4 * np.pi / 3 # Aligns for states alpha @ mu = 2 mod q\n",
    "\n",
    "g = np.zeros(q**n, dtype=complex)\n",
    "g[1] = r * (np.cos(theta1) + np.sin(theta1) * 1j)\n",
    "g[2] = r* (np.cos(theta1) - np.sin(theta1) * 1j)\n",
    "\n",
    "g[3] = r * (np.cos(theta2) + np.sin(theta2) * 1j)\n",
    "g[6] = r* (np.cos(theta2) - np.sin(theta2) * 1j)\n",
    "\n",
    "print('S(alpha): ', (S_matrix @ g).real)\n",
    "\n",
    "p = np.exp(S_matrix @ g)\n",
    "print('P(alpha): ', (p / np.sum(p)).real)"
   ]
  },
  {
   "cell_type": "markdown",
   "metadata": {},
   "source": [
    "#### First- and second-order interaction"
   ]
  },
  {
   "cell_type": "code",
   "execution_count": 35,
   "metadata": {},
   "outputs": [
    {
     "name": "stdout",
     "output_type": "stream",
     "text": [
      "S(alpha):  [ 0.5 -1.   0.5 -1.   0.5  0.5 -1.  -1.   2. ]\n",
      "P(alpha):  [0.10667566 0.02380256 0.10667566 0.02380256 0.10667566 0.10667566\n",
      " 0.02380256 0.02380256 0.47808714]\n"
     ]
    }
   ],
   "source": [
    "# Magnitude\n",
    "r = 0.5\n",
    "\n",
    "# Angle\n",
    "theta = 2 * np.pi / 3 # Aligns for states alpha @ mu = 2 mod q\n",
    "\n",
    "g = np.zeros(q**n, dtype=complex)\n",
    "g[1] = r * (np.cos(theta) + np.sin(theta) * 1j)\n",
    "g[2] = r* (np.cos(theta) - np.sin(theta) * 1j)\n",
    "\n",
    "g[5] = r\n",
    "g[7] = r\n",
    "\n",
    "print('S(alpha): ', (S_matrix @ g).real)\n",
    "\n",
    "p = np.exp(S_matrix @ g)\n",
    "print('P(alpha): ', (p / np.sum(p)).real)"
   ]
  },
  {
   "cell_type": "code",
   "execution_count": 36,
   "metadata": {},
   "outputs": [
    {
     "name": "stdout",
     "output_type": "stream",
     "text": [
      "S(alpha):  [ 1. -2.  1. -2.  1.  1. -2. -2.  4.]\n",
      "P(alpha):  [0.04117822 0.00205014 0.04117822 0.00205014 0.04117822 0.04117822\n",
      " 0.00205014 0.00205014 0.82708657]\n"
     ]
    }
   ],
   "source": [
    "# Magnitude\n",
    "r = 1\n",
    "\n",
    "# Angle\n",
    "theta = 2 * np.pi / 3 # Aligns for states alpha @ mu = 2 mod q\n",
    "\n",
    "g = np.zeros(q**n, dtype=complex)\n",
    "g[1] = r * (np.cos(theta) + np.sin(theta) * 1j)\n",
    "g[2] = r* (np.cos(theta) - np.sin(theta) * 1j)\n",
    "\n",
    "g[5] = r\n",
    "g[7] = r\n",
    "\n",
    "print('S(alpha): ', (S_matrix @ g).real)\n",
    "\n",
    "p = np.exp(S_matrix @ g)\n",
    "print('P(alpha): ', (p / np.sum(p)).real)"
   ]
  },
  {
   "cell_type": "code",
   "execution_count": 37,
   "metadata": {},
   "outputs": [
    {
     "name": "stdout",
     "output_type": "stream",
     "text": [
      "S(alpha):  [ 2. -4.  2. -4.  2.  2. -4. -4.  8.]\n",
      "P(alpha):  [2.45435689e-03 6.08374247e-06 2.45435689e-03 6.08374247e-06\n",
      " 2.45435689e-03 2.45435689e-03 6.08374247e-06 6.08374247e-06\n",
      " 9.90158237e-01]\n"
     ]
    }
   ],
   "source": [
    "# Magnitude\n",
    "r = 2\n",
    "\n",
    "# Angle\n",
    "theta = 2 * np.pi / 3 # Aligns for states alpha @ mu = 2 mod q\n",
    "\n",
    "g = np.zeros(q**n, dtype=complex)\n",
    "g[1] = r * (np.cos(theta) + np.sin(theta) * 1j)\n",
    "g[2] = r* (np.cos(theta) - np.sin(theta) * 1j)\n",
    "\n",
    "g[5] = r\n",
    "g[7] = r\n",
    "\n",
    "print('S(alpha): ', (S_matrix @ g).real)\n",
    "\n",
    "p = np.exp(S_matrix @ g)\n",
    "print('P(alpha): ', (p / np.sum(p)).real)"
   ]
  },
  {
   "cell_type": "markdown",
   "metadata": {},
   "source": [
    "### Expectation value of spin operator"
   ]
  },
  {
   "cell_type": "code",
   "execution_count": 364,
   "metadata": {},
   "outputs": [
    {
     "data": {
      "text/plain": [
       "(-0.3500000000000003-0.4330127018922191j)"
      ]
     },
     "execution_count": 364,
     "metadata": {},
     "output_type": "execute_result"
    }
   ],
   "source": [
    "avg = 0.7 * np.exp(4j*np.pi / 3) + 0.2 * np.exp(2j*np.pi / 3) + 0.1\n",
    "avg"
   ]
  },
  {
   "cell_type": "code",
   "execution_count": 369,
   "metadata": {},
   "outputs": [
    {
     "data": {
      "text/plain": [
       "0.5567764362830022"
      ]
     },
     "execution_count": 369,
     "metadata": {},
     "output_type": "execute_result"
    }
   ],
   "source": [
    "a = avg.real\n",
    "b = avg.imag\n",
    "\n",
    "r = np.sqrt(a**2 + b**2)\n",
    "r"
   ]
  },
  {
   "cell_type": "code",
   "execution_count": 378,
   "metadata": {},
   "outputs": [
    {
     "data": {
      "text/plain": [
       "-2.2505719733716933"
      ]
     },
     "execution_count": 378,
     "metadata": {},
     "output_type": "execute_result"
    }
   ],
   "source": [
    "angle = np.arctan2(b,a)\n",
    "angle"
   ]
  },
  {
   "cell_type": "markdown",
   "metadata": {},
   "source": [
    "### Extending FWHT to calculate inner product of S and g"
   ]
  },
  {
   "cell_type": "code",
   "execution_count": 38,
   "metadata": {},
   "outputs": [],
   "source": [
    "def fwht(a, q):\n",
    "    \"\"\"\n",
    "    Fast Walsh-Hadamard transform of an array.\n",
    "\n",
    "    Parameters\n",
    "    ----------\n",
    "    a : array\n",
    "        Array for which the Walsh-Hadamard transform will be calculated\n",
    "        Length should be a power of two\n",
    "    \n",
    "    Returns\n",
    "    -------\n",
    "    wht_a : array\n",
    "        Walsh-Hadamard transform of the input\n",
    "    \"\"\"\n",
    "    len_a = len(a)\n",
    "    wht_a = a.copy()\n",
    "\n",
    "    h = 1\n",
    "    while h < len_a:\n",
    "        tmp = wht_a\n",
    "        wht_a = np.zeros(len(a), dtype=complex)\n",
    "        for i in range(0, len_a, h*q):\n",
    "            for j in range(i, i+h):\n",
    "                for k in range(q):\n",
    "                    for l in range(q):\n",
    "                        wht_a[j+ k*h] += tmp[j + l*h] * np.exp((2j * np.pi * (l*k)) / q)\n",
    "        h *= q\n",
    "    return wht_a"
   ]
  },
  {
   "cell_type": "markdown",
   "metadata": {},
   "source": [
    "### Generate spin model from stochastic block model"
   ]
  },
  {
   "cell_type": "code",
   "execution_count": 111,
   "metadata": {},
   "outputs": [],
   "source": [
    "# Number of states\n",
    "q = 3"
   ]
  },
  {
   "cell_type": "code",
   "execution_count": 104,
   "metadata": {},
   "outputs": [],
   "source": [
    "# Determine the index in the vector g of a specific pairwise interaction\n",
    "def get_indices(i,j, q, color=[1,1]):\n",
    "    index1 = 0\n",
    "    index2 = 0\n",
    "\n",
    "    index1 += (color[0] * q**i + color[1] * q**j)\n",
    "    index2 += ((-color[0] % q) * q**i + (-color[1] % q) * q**j)\n",
    "    \n",
    "    return index1, index2\n"
   ]
  },
  {
   "cell_type": "code",
   "execution_count": 127,
   "metadata": {},
   "outputs": [],
   "source": [
    "# Representation of stochastic block model (Use struct in C++)\n",
    "\n",
    "# First 3 rows form a community, next two rows form a community and last 5 rows form a community\n",
    "comm_sizes = [3,2,3]\n",
    "n = np.sum(comm_sizes)\n",
    "# probability for link between components from the same community\n",
    "p1 = 1\n",
    "# probability for link between components from different communities\n",
    "p2 = 0"
   ]
  },
  {
   "cell_type": "code",
   "execution_count": 129,
   "metadata": {},
   "outputs": [],
   "source": [
    "# List to store the interactions (Not necessary if we immediatly set the right index in g, for now just to check the pairs)\n",
    "pairs = []\n",
    "# Model parameters\n",
    "g = np.zeros(q**n, dtype=complex)\n",
    "# Strength to give to the model parameters that are present\n",
    "g_value = 1\n",
    "\n",
    "next_comm_i = comm_sizes[0]\n",
    "next_comm_j = comm_sizes[0]\n",
    "\n",
    "comm_i = 0\n",
    "comm_j = 0\n",
    "\n",
    "# Iterate over the pairs of components\n",
    "for i in range(n):\n",
    "    # Check if i is still in this community or the next\n",
    "    if i >= next_comm_i:\n",
    "        comm_i += 1\n",
    "        next_comm_i += comm_sizes[comm_i] \n",
    "    for j in range(i+1, n):\n",
    "        # Check if j is still in this community or the next\n",
    "        if j >= next_comm_j:\n",
    "            comm_j += 1\n",
    "            next_comm_j += comm_sizes[comm_j]\n",
    "\n",
    "        # Generate uniform random variable to determine if link is formed\n",
    "        x = np.random.rand()\n",
    "        if comm_i == comm_j:\n",
    "            # Form link with probability p\n",
    "            if x < p1:\n",
    "                pairs.append((i,j))\n",
    "                # Set the model parameter\n",
    "                indices = get_indices(i,j,q)\n",
    "                g[indices[0]] = g_value\n",
    "                g[indices[1]] = g_value.conjugate()\n",
    "        else:\n",
    "            # Form link with probability q\n",
    "            if x < p2:\n",
    "                pairs.append((i,j))\n",
    "                # Set the model parameter\n",
    "                indices = get_indices(i,j,q)\n",
    "                g[indices[0]] = g_value\n",
    "                g[indices[1]] = g_value.conjugate()\n",
    "\n",
    "    next_comm_j = next_comm_i\n",
    "    comm_j = comm_i"
   ]
  },
  {
   "cell_type": "markdown",
   "metadata": {},
   "source": [
    "### Generate samples"
   ]
  },
  {
   "cell_type": "code",
   "execution_count": 155,
   "metadata": {},
   "outputs": [],
   "source": [
    "# Number of samples\n",
    "N = 10"
   ]
  },
  {
   "cell_type": "code",
   "execution_count": 156,
   "metadata": {},
   "outputs": [],
   "source": [
    "# All possible states\n",
    "states = np.arange(0,q**n)"
   ]
  },
  {
   "cell_type": "code",
   "execution_count": 151,
   "metadata": {},
   "outputs": [],
   "source": [
    "def int_to_string(integer, base, n):\n",
    "    state = ''\n",
    "    while integer:\n",
    "        state += str(integer % base)\n",
    "        integer //= base\n",
    "    \n",
    "    # Add leading zeros\n",
    "    state += '0'*(n-len(state))\n",
    "\n",
    "    return state[::-1]"
   ]
  },
  {
   "cell_type": "code",
   "execution_count": 139,
   "metadata": {},
   "outputs": [],
   "source": [
    "prob = np.exp(fwht(g, q)).real\n",
    "prob /= np.sum(prob)"
   ]
  },
  {
   "cell_type": "code",
   "execution_count": 161,
   "metadata": {},
   "outputs": [],
   "source": [
    "samples = []\n",
    "for _ in range(N):\n",
    "    state = np.random.choice(states, p=prob)\n",
    "    samples.append(int_to_string(state, q, n))"
   ]
  },
  {
   "cell_type": "code",
   "execution_count": 162,
   "metadata": {},
   "outputs": [
    {
     "data": {
      "text/plain": [
       "['00000000',\n",
       " '00000100',\n",
       " '00000000',\n",
       " '00012112',\n",
       " '00012000',\n",
       " '00021000',\n",
       " '00011000',\n",
       " '00012000',\n",
       " '00021000',\n",
       " '12112000']"
      ]
     },
     "execution_count": 162,
     "metadata": {},
     "output_type": "execute_result"
    }
   ],
   "source": [
    "samples"
   ]
  },
  {
   "cell_type": "code",
   "execution_count": null,
   "metadata": {},
   "outputs": [],
   "source": []
  }
 ],
 "metadata": {
  "kernelspec": {
   "display_name": "mcm_discrete",
   "language": "python",
   "name": "python3"
  },
  "language_info": {
   "codemirror_mode": {
    "name": "ipython",
    "version": 3
   },
   "file_extension": ".py",
   "mimetype": "text/x-python",
   "name": "python",
   "nbconvert_exporter": "python",
   "pygments_lexer": "ipython3",
   "version": "3.11.7"
  }
 },
 "nbformat": 4,
 "nbformat_minor": 2
}
