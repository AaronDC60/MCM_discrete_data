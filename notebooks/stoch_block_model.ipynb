{
 "cells": [
  {
   "cell_type": "code",
   "execution_count": 1,
   "metadata": {},
   "outputs": [],
   "source": [
    "# Imports\n",
    "import sys\n",
    "sys.path.insert(0, '../')\n",
    "from python.data.stoch_block_model import sbm"
   ]
  },
  {
   "cell_type": "code",
   "execution_count": 2,
   "metadata": {},
   "outputs": [],
   "source": [
    "# Community structure (2 communities of size 3)\n",
    "comm_structure = ['000111', '111000']\n",
    "\n",
    "# Number of states\n",
    "q = 3\n",
    "\n",
    "# Interaction (pairwise interaction g_12/g_21)\n",
    "interaction = [[1,2]]\n",
    "strength = [1]"
   ]
  },
  {
   "cell_type": "code",
   "execution_count": 3,
   "metadata": {},
   "outputs": [],
   "source": [
    "p_in = 1\n",
    "p_out = 0\n",
    "\n",
    "model = sbm(q, p_in, p_out, comm_structure, interaction, strength)\n",
    "\n",
    "model.create_links()\n",
    "model.generate_samples(1000, \"sbm_p_in_100_p_out_0_n_6_q_3.dat\")\n",
    "\n",
    "# Result: perfect recovery"
   ]
  },
  {
   "cell_type": "markdown",
   "metadata": {},
   "source": [
    "### Introduce noise"
   ]
  },
  {
   "cell_type": "code",
   "execution_count": 4,
   "metadata": {},
   "outputs": [],
   "source": [
    "model.reset()\n",
    "\n",
    "# Increase probability for intercommunity link\n",
    "model.p_out = 0.1\n",
    "\n",
    "model.create_links()\n",
    "model.generate_samples(1000, \"sbm_p_in_100_p_out_10_n_6_q_3.dat\")\n",
    "\n",
    "# Result: perfect recovery"
   ]
  },
  {
   "cell_type": "code",
   "execution_count": 5,
   "metadata": {},
   "outputs": [],
   "source": [
    "model.reset()\n",
    "\n",
    "# Increase probability for intercommunity link\n",
    "model.p_out = 0.2\n",
    "\n",
    "model.create_links()\n",
    "model.generate_samples(1000, \"sbm_p_in_100_p_out_20_n_6_q_3.dat\")\n",
    "\n",
    "# Result: Wrong structure, seen as 1 community"
   ]
  },
  {
   "cell_type": "code",
   "execution_count": 9,
   "metadata": {},
   "outputs": [],
   "source": [
    "model.reset()\n",
    "\n",
    "# Increase probability for intercommunity link\n",
    "model.p_out = 0.3\n",
    "\n",
    "model.create_links()\n",
    "model.generate_samples(1000, \"sbm_p_in_100_p_out_30_n_6_q_3.dat\")\n",
    "\n",
    "# Result: Wrong structure, seen as 1 community"
   ]
  },
  {
   "cell_type": "code",
   "execution_count": 10,
   "metadata": {},
   "outputs": [],
   "source": [
    "model.reset()\n",
    "\n",
    "# Increase probability for intercommunity link\n",
    "model.p_out = 0.4\n",
    "\n",
    "model.create_links()\n",
    "model.generate_samples(1000, \"sbm_p_in_100_p_out_40_n_6_q_3.dat\")\n",
    "\n",
    "# Result: Wrong, seen as 1 community"
   ]
  },
  {
   "cell_type": "code",
   "execution_count": 11,
   "metadata": {},
   "outputs": [],
   "source": [
    "model.reset()\n",
    "\n",
    "# Increase probability for intercommunity link\n",
    "model.p_out = 0.5\n",
    "\n",
    "model.create_links()\n",
    "model.generate_samples(1000, \"sbm_p_in_100_p_out_50_n_6_q_3.dat\")\n",
    "\n",
    "# Result: Wrong, seen as 1 community"
   ]
  },
  {
   "cell_type": "markdown",
   "metadata": {},
   "source": [
    "#### Reduce signal"
   ]
  },
  {
   "cell_type": "code",
   "execution_count": 12,
   "metadata": {},
   "outputs": [],
   "source": [
    "model.reset()\n",
    "\n",
    "# No intercommunity links\n",
    "model.p_out = 0\n",
    "# Reduce probability for intracommunity link\n",
    "model.p_in = 0.9\n",
    "\n",
    "model.create_links()\n",
    "model.generate_samples(1000, \"sbm_p_in_90_p_out_0_n_6_q_3.dat\")\n",
    "\n",
    "# Result: perfect recovery"
   ]
  },
  {
   "cell_type": "code",
   "execution_count": 13,
   "metadata": {},
   "outputs": [],
   "source": [
    "model.reset()\n",
    "\n",
    "# Reduce probability for intracommunity link\n",
    "model.p_in = 0.8\n",
    "\n",
    "model.create_links()\n",
    "model.generate_samples(1000, \"sbm_p_in_80_p_out_0_n_6_q_3.dat\")\n",
    "\n",
    "# Result: perfect recovery"
   ]
  },
  {
   "cell_type": "code",
   "execution_count": 14,
   "metadata": {},
   "outputs": [],
   "source": [
    "model.reset()\n",
    "\n",
    "# Reduce probability for intracommunity link\n",
    "model.p_in = 0.7\n",
    "\n",
    "model.create_links()\n",
    "model.generate_samples(1000, \"sbm_p_in_70_p_out_0_n_6_q_3.dat\")\n",
    "\n",
    "# Result: perfect recovery"
   ]
  },
  {
   "cell_type": "code",
   "execution_count": 15,
   "metadata": {},
   "outputs": [],
   "source": [
    "model.reset()\n",
    "\n",
    "# Reduce probability for intracommunity link\n",
    "model.p_in = 0.6\n",
    "\n",
    "model.create_links()\n",
    "model.generate_samples(1000, \"sbm_p_in_60_p_out_0_n_6_q_3.dat\")\n",
    "\n",
    "# Result: perfect recovery"
   ]
  },
  {
   "cell_type": "code",
   "execution_count": 16,
   "metadata": {},
   "outputs": [],
   "source": [
    "model.reset()\n",
    "\n",
    "# Reduce probability for intracommunity link\n",
    "model.p_in = 0.5\n",
    "\n",
    "model.create_links()\n",
    "model.generate_samples(1000, \"sbm_p_in_50_p_out_0_n_6_q_3.dat\")\n",
    "\n",
    "# Result: perfect recovery"
   ]
  },
  {
   "cell_type": "code",
   "execution_count": 17,
   "metadata": {},
   "outputs": [],
   "source": [
    "model.reset()\n",
    "\n",
    "# Reduce probability for intracommunity link\n",
    "model.p_in = 0.4\n",
    "\n",
    "model.create_links()\n",
    "model.generate_samples(1000, \"sbm_p_in_40_p_out_0_n_6_q_3.dat\")\n",
    "\n",
    "# Result: 1 Community is recovered perfectly, the other one is split (100000, 011000, 000111)"
   ]
  },
  {
   "cell_type": "code",
   "execution_count": 18,
   "metadata": {},
   "outputs": [],
   "source": [
    "model.reset()\n",
    "\n",
    "# Reduce probability for intracommunity link\n",
    "model.p_in = 0.3\n",
    "\n",
    "model.create_links()\n",
    "model.generate_samples(1000, \"sbm_p_in_30_p_out_0_n_6_q_3.dat\")\n",
    "\n",
    "# Result: Both communities are split (101000, 010000, 000100, 000011)"
   ]
  },
  {
   "cell_type": "code",
   "execution_count": 19,
   "metadata": {},
   "outputs": [],
   "source": [
    "model.reset()\n",
    "\n",
    "# Reduce probability for intracommunity link\n",
    "model.p_in = 0.2\n",
    "\n",
    "model.create_links()\n",
    "model.generate_samples(1000, \"sbm_p_in_20_p_out_0_n_6_q_3.dat\")\n",
    "\n",
    "# Result: Split and mixed (110000, 001011, 000100)"
   ]
  },
  {
   "cell_type": "code",
   "execution_count": 20,
   "metadata": {},
   "outputs": [],
   "source": [
    "model.reset()\n",
    "\n",
    "# Reduce probability for intracommunity link\n",
    "model.p_in = 0.1\n",
    "\n",
    "model.create_links()\n",
    "model.generate_samples(1000, \"sbm_p_in_10_p_out_0_n_6_q_3.dat\")\n",
    "\n",
    "# Result: Every variable is independent (100000, 010000, 001000, 000100, 000010, 000001)"
   ]
  },
  {
   "cell_type": "code",
   "execution_count": null,
   "metadata": {},
   "outputs": [],
   "source": []
  }
 ],
 "metadata": {
  "kernelspec": {
   "display_name": "mcm_discrete",
   "language": "python",
   "name": "python3"
  },
  "language_info": {
   "codemirror_mode": {
    "name": "ipython",
    "version": 3
   },
   "file_extension": ".py",
   "mimetype": "text/x-python",
   "name": "python",
   "nbconvert_exporter": "python",
   "pygments_lexer": "ipython3",
   "version": "3.11.7"
  }
 },
 "nbformat": 4,
 "nbformat_minor": 2
}
