{
 "cells": [
  {
   "cell_type": "markdown",
   "metadata": {},
   "source": [
    "### Finding best Minimally Complex model for supreme court voting dataset using integer representation"
   ]
  },
  {
   "cell_type": "code",
   "execution_count": 1,
   "metadata": {},
   "outputs": [],
   "source": [
    "# Imports\n",
    "import sys\n",
    "sys.path.insert(0, '../')\n",
    "from python.mcm_binary import mcm"
   ]
  },
  {
   "cell_type": "code",
   "execution_count": 2,
   "metadata": {},
   "outputs": [],
   "source": [
    "model = mcm('../data/SC_voting/US_SupremeCourt_n9_N895.txt')"
   ]
  },
  {
   "cell_type": "code",
   "execution_count": 3,
   "metadata": {},
   "outputs": [
    {
     "name": "stdout",
     "output_type": "stream",
     "text": [
      "Independent model in the original basis\n",
      "Evidence:  -5258.100240438084\n"
     ]
    }
   ],
   "source": [
    "# Evidence of IM with original basis (Should be -5258)\n",
    "print('Independent model in the original basis')\n",
    "print('Evidence: ', model.calc_log_evidence(model.mcms[-1]))"
   ]
  },
  {
   "cell_type": "code",
   "execution_count": 4,
   "metadata": {},
   "outputs": [
    {
     "name": "stdout",
     "output_type": "stream",
     "text": [
      "Best MCM in original basis (Exhaustive search)\n",
      "MCM:  [[0, 2, 3, 4, 6], [1, 5, 7, 8]]\n",
      "Evidence:  -3300.395469673639\n"
     ]
    }
   ],
   "source": [
    "# Finding best MCM in original basis (Should be [[0, 2, 3, 4, 6], [1, 5, 7, 8]] with evidence -3300.4)\n",
    "model.find_best_mcm()\n",
    "print('Best MCM in original basis (Exhaustive search)')\n",
    "print('MCM: ', model.best_mcm)\n",
    "print('Evidence: ', model.best_evidence)"
   ]
  },
  {
   "cell_type": "code",
   "execution_count": 5,
   "metadata": {},
   "outputs": [
    {
     "name": "stdout",
     "output_type": "stream",
     "text": [
      "Best MCM in original basis (Greedy search)\n",
      "MCM:  [[0, 4, 2, 3, 6], [1, 5, 7, 8]]\n",
      "Evidence:  -3300.395469673639\n"
     ]
    }
   ],
   "source": [
    "# Finding best MCM in original basis using a Greedy search (Should be [[0, 2, 3, 4, 6], [1, 5, 7, 8]] with evidence -3300.4)\n",
    "model.find_best_mcm(method='greedy')\n",
    "print('Best MCM in original basis (Greedy search)')\n",
    "print('MCM: ', model.best_mcm)\n",
    "print('Evidence: ', model.best_evidence)"
   ]
  },
  {
   "cell_type": "code",
   "execution_count": 20,
   "metadata": {},
   "outputs": [
    {
     "name": "stdout",
     "output_type": "stream",
     "text": [
      "Start splitting procedure:  [[0, 1, 2, 3, 4, 5, 6, 7, 8]] -3305.54657591369\n",
      "[[1, 2, 3, 4, 5, 6, 7, 8], [0]] -3506.473953479855\n",
      "New intermediate best:  [[1, 2, 3, 4, 5, 6, 7, 8], [0]] -3506.473953479855\n",
      "[[0, 2, 3, 4, 5, 6, 7, 8], [1]] -3423.151089359927\n",
      "New intermediate best:  [[0, 2, 3, 4, 5, 6, 7, 8], [1]] -3423.151089359927\n",
      "[[0, 1, 3, 4, 5, 6, 7, 8], [2]] -3505.3254342779846\n",
      "[[0, 1, 2, 4, 5, 6, 7, 8], [3]] -3515.4197429054993\n",
      "[[0, 1, 2, 3, 5, 6, 7, 8], [4]] -3500.4252510768592\n",
      "[[0, 1, 2, 3, 4, 6, 7, 8], [5]] -3553.896470753466\n",
      "[[0, 1, 2, 3, 4, 5, 7, 8], [6]] -3503.42222728104\n",
      "[[0, 1, 2, 3, 4, 5, 6, 8], [7]] -3567.686532154147\n",
      "[[0, 1, 2, 3, 4, 5, 6, 7], [8]] -3539.81806525089\n",
      "[[2, 3, 4, 5, 6, 7, 8], [1, 0]] -3638.0787001949993\n",
      "New intermediate best:  [[2, 3, 4, 5, 6, 7, 8], [1, 0]] -3638.0787001949993\n",
      "[[0, 3, 4, 5, 6, 7, 8], [1, 2]] -3599.3100345335324\n",
      "New intermediate best:  [[0, 3, 4, 5, 6, 7, 8], [1, 2]] -3599.3100345335324\n",
      "[[0, 2, 4, 5, 6, 7, 8], [1, 3]] -3654.4803774308366\n",
      "[[0, 2, 3, 5, 6, 7, 8], [1, 4]] -3589.5813302871293\n",
      "New intermediate best:  [[0, 2, 3, 5, 6, 7, 8], [1, 4]] -3589.5813302871293\n",
      "[[0, 2, 3, 4, 6, 7, 8], [1, 5]] -3520.920294128399\n",
      "New intermediate best:  [[0, 2, 3, 4, 6, 7, 8], [1, 5]] -3520.920294128399\n",
      "[[0, 2, 3, 4, 5, 7, 8], [1, 6]] -3643.4399429092896\n",
      "[[0, 2, 3, 4, 5, 6, 8], [1, 7]] -3502.1545816814746\n",
      "New intermediate best:  [[0, 2, 3, 4, 5, 6, 8], [1, 7]] -3502.1545816814746\n",
      "[[0, 2, 3, 4, 5, 6, 7], [1, 8]] -3501.2088895981\n",
      "New intermediate best:  [[0, 2, 3, 4, 5, 6, 7], [1, 8]] -3501.2088895981\n",
      "[[2, 3, 4, 5, 6, 7], [1, 8, 0]] -3694.5174172679062\n",
      "New intermediate best:  [[2, 3, 4, 5, 6, 7], [1, 8, 0]] -3694.5174172679062\n",
      "[[0, 3, 4, 5, 6, 7], [1, 8, 2]] -3590.2204618415603\n",
      "New intermediate best:  [[0, 3, 4, 5, 6, 7], [1, 8, 2]] -3590.2204618415603\n",
      "[[0, 2, 4, 5, 6, 7], [1, 8, 3]] -3738.2848812183256\n",
      "[[0, 2, 3, 5, 6, 7], [1, 8, 4]] -3650.844267850804\n",
      "[[0, 2, 3, 4, 6, 7], [1, 8, 5]] -3525.6447620329286\n",
      "New intermediate best:  [[0, 2, 3, 4, 6, 7], [1, 8, 5]] -3525.6447620329286\n",
      "[[0, 2, 3, 4, 5, 7], [1, 8, 6]] -3743.0862490710138\n",
      "[[0, 2, 3, 4, 5, 6], [1, 8, 7]] -3473.807308034899\n",
      "New intermediate best:  [[0, 2, 3, 4, 5, 6], [1, 8, 7]] -3473.807308034899\n",
      "[[2, 3, 4, 5, 6], [1, 8, 7, 0]] -3663.351611176889\n",
      "New intermediate best:  [[2, 3, 4, 5, 6], [1, 8, 7, 0]] -3663.351611176889\n",
      "[[0, 3, 4, 5, 6], [1, 8, 7, 2]] -3572.8279552093272\n",
      "New intermediate best:  [[0, 3, 4, 5, 6], [1, 8, 7, 2]] -3572.8279552093272\n",
      "[[0, 2, 4, 5, 6], [1, 8, 7, 3]] -3721.460581310303\n",
      "[[0, 2, 3, 5, 6], [1, 8, 7, 4]] -3626.6872857982307\n",
      "[[0, 2, 3, 4, 6], [1, 8, 7, 5]] -3300.395469673639\n",
      "New intermediate best:  [[0, 2, 3, 4, 6], [1, 8, 7, 5]] -3300.395469673639\n",
      "[[0, 2, 3, 4, 5], [1, 8, 7, 6]] -3729.9601764124272\n",
      "New overall best:  [[0, 2, 3, 4, 6], [1, 8, 7, 5]] -3300.395469673639\n",
      "[[2, 3, 4, 6], [1, 8, 7, 5, 0]] -3501.7724207772317\n",
      "New intermediate best:  [[2, 3, 4, 6], [1, 8, 7, 5, 0]] -3501.7724207772317\n",
      "[[0, 3, 4, 6], [1, 8, 7, 5, 2]] -3358.934928243327\n",
      "New intermediate best:  [[0, 3, 4, 6], [1, 8, 7, 5, 2]] -3358.934928243327\n",
      "[[0, 2, 4, 6], [1, 8, 7, 5, 3]] -3552.6303983365337\n",
      "[[0, 2, 3, 6], [1, 8, 7, 5, 4]] -3447.2239452534163\n",
      "[[0, 2, 3, 4], [1, 8, 7, 5, 6]] -3558.323127639526\n",
      "[[3, 4, 6], [1, 8, 7, 5, 2, 0]] -3442.262179395355\n",
      "New intermediate best:  [[3, 4, 6], [1, 8, 7, 5, 2, 0]] -3442.262179395355\n",
      "[[0, 4, 6], [1, 8, 7, 5, 2, 3]] -3543.981570971054\n",
      "[[0, 3, 6], [1, 8, 7, 5, 2, 4]] -3407.8116832125606\n",
      "New intermediate best:  [[0, 3, 6], [1, 8, 7, 5, 2, 4]] -3407.8116832125606\n",
      "[[0, 3, 4], [1, 8, 7, 5, 2, 6]] -3561.679220528766\n",
      "[[3, 6], [1, 8, 7, 5, 2, 4, 0]] -3364.2792756233894\n",
      "New intermediate best:  [[3, 6], [1, 8, 7, 5, 2, 4, 0]] -3364.2792756233894\n",
      "[[0, 6], [1, 8, 7, 5, 2, 4, 3]] -3554.0414218677515\n",
      "[[0, 3], [1, 8, 7, 5, 2, 4, 6]] -3571.5640288121836\n",
      "Start splitting procedure:  [[0, 2, 3, 4, 6]] -1754.4116602236718\n",
      "[[2, 3, 4, 6], [0]] -2093.063790363903\n",
      "New intermediate best:  [[2, 3, 4, 6], [0]] -2093.063790363903\n",
      "[[0, 3, 4, 6], [2]] -2014.2195938125121\n",
      "New intermediate best:  [[0, 3, 4, 6], [2]] -2014.2195938125121\n",
      "[[0, 2, 4, 6], [3]] -2085.554876548305\n",
      "[[0, 2, 3, 6], [4]] -2064.1539301664243\n",
      "[[0, 2, 3, 4], [6]] -2086.4150040198574\n",
      "[[3, 4, 6], [2, 0]] -2104.1017555989083\n",
      "New intermediate best:  [[3, 4, 6], [2, 0]] -2104.1017555989083\n",
      "[[0, 4, 6], [2, 3]] -2207.6375517608353\n",
      "[[0, 3, 6], [2, 4]] -2079.9762149842054\n",
      "New intermediate best:  [[0, 3, 6], [2, 4]] -2079.9762149842054\n",
      "[[0, 3, 4], [2, 6]] -2209.186252452383\n",
      "[[3, 6], [2, 4, 0]] -1999.08557438951\n",
      "New intermediate best:  [[3, 6], [2, 4, 0]] -1999.08557438951\n",
      "[[0, 6], [2, 4, 3]] -2220.7025461945\n",
      "[[0, 3], [2, 4, 6]] -2219.901881069213\n",
      "Start splitting procedure:  [[1, 8, 7, 5]] -1545.9838094499682\n",
      "[[8, 7, 5], [1]] -1786.7814802420207\n",
      "New intermediate best:  [[8, 7, 5], [1]] -1786.7814802420207\n",
      "[[1, 7, 5], [8]] -1867.3097214050504\n",
      "[[1, 8, 5], [7]] -1926.8374964307754\n",
      "[[1, 8, 7], [5]] -1904.4761883523488\n",
      "[[7, 5], [1, 8]] -1908.8338012907775\n",
      "New intermediate best:  [[7, 5], [1, 8]] -1908.8338012907775\n",
      "[[8, 5], [1, 7]] -1945.960733052871\n",
      "[[8, 7], [1, 5]] -1937.527587079066\n",
      "Best MCM in original basis (Divide and conquer)\n",
      "MCM:  [[0, 2, 3, 4, 6], [1, 8, 7, 5]]\n",
      "Evidence:  -3300.395469673639\n"
     ]
    }
   ],
   "source": [
    "# Finding best MCM in original basis using the divide and conquer scheme\n",
    "model.find_best_mcm(method='divide_and_conquer', print_search=True)\n",
    "print('Best MCM in original basis (Divide and conquer)')\n",
    "print('MCM: ', model.best_mcm)\n",
    "print('Evidence: ', model.best_evidence)"
   ]
  },
  {
   "cell_type": "code",
   "execution_count": 6,
   "metadata": {},
   "outputs": [
    {
     "name": "stdout",
     "output_type": "stream",
     "text": [
      "Best Independent model\n",
      "IM:  [ 72 160 384  17  65   5 130 260  64]\n",
      "Evidence:  -3327.079945846724\n"
     ]
    }
   ],
   "source": [
    "# Finding the best IM (Should be [72, 160, 384, 17, 65, 5, 130, 260, 64] with evidence -3327)\n",
    "model.find_best_im(max_interactions=2)\n",
    "print('Best Independent model')\n",
    "print('IM: ', model.best_im)\n",
    "print('Evidence: ', model.calc_log_evidence(model.mcms[-1]))"
   ]
  },
  {
   "cell_type": "code",
   "execution_count": 7,
   "metadata": {},
   "outputs": [
    {
     "name": "stdout",
     "output_type": "stream",
     "text": [
      "Best MCM in the optimal basis (Exhaustive search)\n",
      "MCM:  [[0], [1, 2, 6], [3, 4, 5, 7, 8]]\n",
      "Evidence:  -3154.421230299754\n"
     ]
    }
   ],
   "source": [
    "# Finding best MCM in optimal basis (Should be [[0], [1, 2, 6], [3, 4, 5, 7, 8]] with evidence -3154.4)\n",
    "model.find_best_mcm()\n",
    "print('Best MCM in the optimal basis (Exhaustive search)')\n",
    "print('MCM: ', model.best_mcm)\n",
    "print('Evidence: ', model.best_evidence)"
   ]
  },
  {
   "cell_type": "code",
   "execution_count": 8,
   "metadata": {},
   "outputs": [
    {
     "name": "stdout",
     "output_type": "stream",
     "text": [
      "Best MCM in the optimal basis (Greedy search)\n",
      "MCM:  [[0, 4, 3, 5], [1, 2, 6, 7, 8]]\n",
      "Evidence:  -3163.252527450342\n"
     ]
    }
   ],
   "source": [
    "# Finding the best MCM in the optimal basis using Greedy search ([[0, 4, 3, 5], [1, 2, 6, 7, 8]] -3163.252527450342)\n",
    "model.find_best_mcm(method='greedy')\n",
    "print('Best MCM in the optimal basis (Greedy search)')\n",
    "print('MCM: ', model.best_mcm)\n",
    "print('Evidence: ', model.best_evidence)"
   ]
  },
  {
   "cell_type": "code",
   "execution_count": 9,
   "metadata": {},
   "outputs": [
    {
     "name": "stdout",
     "output_type": "stream",
     "text": [
      "Best MCM in the optimal basis (Divide and conquer)\n",
      "MCM:  [[1, 2, 6], [3, 5, 4, 7, 8], [0]]\n",
      "Evidence:  -3154.421230299755\n"
     ]
    }
   ],
   "source": [
    "# Finding the best MCM in the optimal basis using the divide and conquer scheme\n",
    "model.find_best_mcm(method='divide_and_conquer')\n",
    "print('Best MCM in the optimal basis (Divide and conquer)')\n",
    "print('MCM: ', model.best_mcm)\n",
    "print('Evidence: ', model.best_evidence)"
   ]
  },
  {
   "cell_type": "code",
   "execution_count": null,
   "metadata": {},
   "outputs": [],
   "source": []
  }
 ],
 "metadata": {
  "kernelspec": {
   "display_name": "mcm_discrete",
   "language": "python",
   "name": "python3"
  },
  "language_info": {
   "codemirror_mode": {
    "name": "ipython",
    "version": 3
   },
   "file_extension": ".py",
   "mimetype": "text/x-python",
   "name": "python",
   "nbconvert_exporter": "python",
   "pygments_lexer": "ipython3",
   "version": "3.11.7"
  }
 },
 "nbformat": 4,
 "nbformat_minor": 2
}
