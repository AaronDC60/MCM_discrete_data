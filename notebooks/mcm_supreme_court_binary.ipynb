{
 "cells": [
  {
   "cell_type": "markdown",
   "metadata": {},
   "source": [
    "### Finding best Minimally Complex model for supreme court voting dataset using integer representation"
   ]
  },
  {
   "cell_type": "code",
   "execution_count": 1,
   "metadata": {},
   "outputs": [],
   "source": [
    "# Imports\n",
    "import sys\n",
    "sys.path.insert(0, '../')\n",
    "from src.utils import *\n",
    "from src.mcm_binary import mcm"
   ]
  },
  {
   "cell_type": "code",
   "execution_count": 2,
   "metadata": {},
   "outputs": [],
   "source": [
    "model = mcm('../data/SC_voting/US_SupremeCourt_n9_N895.txt')"
   ]
  },
  {
   "cell_type": "code",
   "execution_count": 3,
   "metadata": {},
   "outputs": [
    {
     "name": "stdout",
     "output_type": "stream",
     "text": [
      "Independent model in the original basis\n",
      "Evidence:  -5258.100240438084\n"
     ]
    }
   ],
   "source": [
    "# Evidence of IM with original basis (Should be -5258)\n",
    "print('Independent model in the original basis')\n",
    "print('Evidence: ', model.calc_log_evidence(model.mcms[-1]))"
   ]
  },
  {
   "cell_type": "code",
   "execution_count": 4,
   "metadata": {},
   "outputs": [
    {
     "name": "stdout",
     "output_type": "stream",
     "text": [
      "Best MCM in original basis (Exhaustive search)\n",
      "MCM:  [[0, 2, 3, 4, 6], [1, 5, 7, 8]]\n",
      "Evidence:  -3300.395469673639\n"
     ]
    }
   ],
   "source": [
    "# Finding best MCM in original basis (Should be [[0, 2, 3, 4, 6], [1, 5, 7, 8]] with evidence -3300.4)\n",
    "model.find_best_mcm()\n",
    "print('Best MCM in original basis (Exhaustive search)')\n",
    "print('MCM: ', model.best_mcm)\n",
    "print('Evidence: ', model.best_evidence)"
   ]
  },
  {
   "cell_type": "code",
   "execution_count": 5,
   "metadata": {},
   "outputs": [
    {
     "name": "stdout",
     "output_type": "stream",
     "text": [
      "Best MCM in original basis (Greedy search)\n",
      "MCM:  [[0, 4, 2, 3, 6], [1, 5, 7, 8]]\n",
      "Evidence:  -3300.395469673639\n"
     ]
    }
   ],
   "source": [
    "# Finding best MCM in original basis using a Greedy search (Should be [[0, 2, 3, 4, 6], [1, 5, 7, 8]] with evidence -3300.4)\n",
    "model.find_best_mcm(method='greedy')\n",
    "print('Best MCM in original basis (Greedy search)')\n",
    "print('MCM: ', model.best_mcm)\n",
    "print('Evidence: ', model.best_evidence)"
   ]
  },
  {
   "cell_type": "code",
   "execution_count": 6,
   "metadata": {},
   "outputs": [
    {
     "name": "stdout",
     "output_type": "stream",
     "text": [
      "Best MCM in original basis (Divide and conquer)\n",
      "MCM:  [[0, 2, 3, 4, 6], [1, 8, 7, 5]]\n",
      "Evidence:  -3300.395469673639\n"
     ]
    }
   ],
   "source": [
    "# Finding best MCM in original basis using the divide and conquer scheme\n",
    "model.find_best_mcm(method='divide_and_conquer')\n",
    "print('Best MCM in original basis (Divide and conquer)')\n",
    "print('MCM: ', model.best_mcm)\n",
    "print('Evidence: ', model.best_evidence)"
   ]
  },
  {
   "cell_type": "code",
   "execution_count": 7,
   "metadata": {},
   "outputs": [
    {
     "name": "stdout",
     "output_type": "stream",
     "text": [
      "Best Independent model\n",
      "IM:  [ 72 160 384  17  65   5 130 260  64]\n",
      "Evidence:  -3327.079945846724\n"
     ]
    }
   ],
   "source": [
    "# Finding the best IM (Should be [72, 160, 384, 17, 65, 5, 130, 260, 64] with evidence -3327)\n",
    "model.find_best_im(max_interactions=2)\n",
    "print('Best Independent model')\n",
    "print('IM: ', model.best_im)\n",
    "print('Evidence: ', model.calc_log_evidence(model.mcms[-1]))"
   ]
  },
  {
   "cell_type": "code",
   "execution_count": 8,
   "metadata": {},
   "outputs": [
    {
     "name": "stdout",
     "output_type": "stream",
     "text": [
      "Best MCM in the optimal basis (Exhaustive search)\n",
      "MCM:  [[0], [1, 2, 6], [3, 4, 5, 7, 8]]\n",
      "Evidence:  -3154.421230299754\n"
     ]
    }
   ],
   "source": [
    "# Finding best MCM in optimal basis (Should be [[0], [1, 2, 6], [3, 4, 5, 7, 8]] with evidence -3154.4)\n",
    "model.find_best_mcm()\n",
    "print('Best MCM in the optimal basis (Exhaustive search)')\n",
    "print('MCM: ', model.best_mcm)\n",
    "print('Evidence: ', model.best_evidence)"
   ]
  },
  {
   "cell_type": "code",
   "execution_count": 9,
   "metadata": {},
   "outputs": [
    {
     "name": "stdout",
     "output_type": "stream",
     "text": [
      "Best MCM in the optimal basis (Greedy search)\n",
      "MCM:  [[0, 4, 3, 5], [1, 2, 6, 7, 8]]\n",
      "Evidence:  -3163.252527450342\n"
     ]
    }
   ],
   "source": [
    "# Finding the best MCM in the optimal basis using Greedy search ([[0, 4, 3, 5], [1, 2, 6, 7, 8]] -3163.252527450342)\n",
    "model.find_best_mcm(method='greedy')\n",
    "print('Best MCM in the optimal basis (Greedy search)')\n",
    "print('MCM: ', model.best_mcm)\n",
    "print('Evidence: ', model.best_evidence)"
   ]
  },
  {
   "cell_type": "code",
   "execution_count": 10,
   "metadata": {},
   "outputs": [
    {
     "name": "stdout",
     "output_type": "stream",
     "text": [
      "Best MCM in the optimal basis (Divide and conquer)\n",
      "MCM:  [[1, 2, 6], [3, 5, 4, 7, 8], [0]]\n",
      "Evidence:  -3154.421230299755\n"
     ]
    }
   ],
   "source": [
    "# Finding the best MCM in the optimal basis using the divide and conquer scheme\n",
    "model.find_best_mcm(method='divide_and_conquer')\n",
    "print('Best MCM in the optimal basis (Divide and conquer)')\n",
    "print('MCM: ', model.best_mcm)\n",
    "print('Evidence: ', model.best_evidence)"
   ]
  },
  {
   "cell_type": "markdown",
   "metadata": {},
   "source": [
    "### Generating samples from spin model with discrete states"
   ]
  },
  {
   "cell_type": "code",
   "execution_count": 20,
   "metadata": {},
   "outputs": [],
   "source": [
    "q = 3\n",
    "n = 2"
   ]
  },
  {
   "cell_type": "code",
   "execution_count": 21,
   "metadata": {},
   "outputs": [],
   "source": [
    "# Construct random array for parameters (range?)\n",
    "g = np.random.uniform(low=-1, high=1, size=q**n)"
   ]
  },
  {
   "cell_type": "code",
   "execution_count": 22,
   "metadata": {},
   "outputs": [],
   "source": [
    "def construct_s(q):\n",
    "    S = np.ones((q, q), dtype=complex)\n",
    "    for i in range(q):\n",
    "        for j in range(i, q):\n",
    "            S[i,j] = np.exp(-((i*j)*2j*np.pi) / q)\n",
    "            S[j,i] = S[i,j]\n",
    "    return S"
   ]
  },
  {
   "cell_type": "code",
   "execution_count": 23,
   "metadata": {},
   "outputs": [],
   "source": [
    "S = construct_s(q)\n",
    "S_matrix = np.copy(S)\n",
    "for _ in range(n-1):\n",
    "    S_matrix = np.kron(S_matrix, S)"
   ]
  },
  {
   "cell_type": "code",
   "execution_count": 24,
   "metadata": {},
   "outputs": [
    {
     "data": {
      "text/plain": [
       "array([[ 1. +0.j       ,  1. +0.j       ,  1. +0.j       ],\n",
       "       [ 1. +0.j       , -0.5-0.8660254j, -0.5+0.8660254j],\n",
       "       [ 1. +0.j       , -0.5+0.8660254j, -0.5-0.8660254j]])"
      ]
     },
     "execution_count": 24,
     "metadata": {},
     "output_type": "execute_result"
    }
   ],
   "source": [
    "S"
   ]
  },
  {
   "cell_type": "code",
   "execution_count": 25,
   "metadata": {},
   "outputs": [
    {
     "data": {
      "text/plain": [
       "array([[ 1. +0.00000000e+00j,  1. +0.00000000e+00j,  1. +0.00000000e+00j,\n",
       "         1. +0.00000000e+00j,  1. +0.00000000e+00j,  1. +0.00000000e+00j,\n",
       "         1. +0.00000000e+00j,  1. +0.00000000e+00j,  1. +0.00000000e+00j],\n",
       "       [ 1. +0.00000000e+00j, -0.5-8.66025404e-01j, -0.5+8.66025404e-01j,\n",
       "         1. +0.00000000e+00j, -0.5-8.66025404e-01j, -0.5+8.66025404e-01j,\n",
       "         1. +0.00000000e+00j, -0.5-8.66025404e-01j, -0.5+8.66025404e-01j],\n",
       "       [ 1. +0.00000000e+00j, -0.5+8.66025404e-01j, -0.5-8.66025404e-01j,\n",
       "         1. +0.00000000e+00j, -0.5+8.66025404e-01j, -0.5-8.66025404e-01j,\n",
       "         1. +0.00000000e+00j, -0.5+8.66025404e-01j, -0.5-8.66025404e-01j],\n",
       "       [ 1. +0.00000000e+00j,  1. +0.00000000e+00j,  1. +0.00000000e+00j,\n",
       "        -0.5-8.66025404e-01j, -0.5-8.66025404e-01j, -0.5-8.66025404e-01j,\n",
       "        -0.5+8.66025404e-01j, -0.5+8.66025404e-01j, -0.5+8.66025404e-01j],\n",
       "       [ 1. +0.00000000e+00j, -0.5-8.66025404e-01j, -0.5+8.66025404e-01j,\n",
       "        -0.5-8.66025404e-01j, -0.5+8.66025404e-01j,  1. +8.02918932e-16j,\n",
       "        -0.5+8.66025404e-01j,  1. +7.73170596e-16j, -0.5-8.66025404e-01j],\n",
       "       [ 1. +0.00000000e+00j, -0.5+8.66025404e-01j, -0.5-8.66025404e-01j,\n",
       "        -0.5-8.66025404e-01j,  1. +8.02918932e-16j, -0.5+8.66025404e-01j,\n",
       "        -0.5+8.66025404e-01j, -0.5-8.66025404e-01j,  1. +1.49481556e-15j],\n",
       "       [ 1. +0.00000000e+00j,  1. +0.00000000e+00j,  1. +0.00000000e+00j,\n",
       "        -0.5+8.66025404e-01j, -0.5+8.66025404e-01j, -0.5+8.66025404e-01j,\n",
       "        -0.5-8.66025404e-01j, -0.5-8.66025404e-01j, -0.5-8.66025404e-01j],\n",
       "       [ 1. +0.00000000e+00j, -0.5-8.66025404e-01j, -0.5+8.66025404e-01j,\n",
       "        -0.5+8.66025404e-01j,  1. +7.73170596e-16j, -0.5-8.66025404e-01j,\n",
       "        -0.5-8.66025404e-01j, -0.5+8.66025404e-01j,  1. +1.49826712e-15j],\n",
       "       [ 1. +0.00000000e+00j, -0.5+8.66025404e-01j, -0.5-8.66025404e-01j,\n",
       "        -0.5+8.66025404e-01j, -0.5-8.66025404e-01j,  1. +1.49481556e-15j,\n",
       "        -0.5-8.66025404e-01j,  1. +1.49826712e-15j, -0.5+8.66025404e-01j]])"
      ]
     },
     "execution_count": 25,
     "metadata": {},
     "output_type": "execute_result"
    }
   ],
   "source": [
    "S_matrix"
   ]
  },
  {
   "cell_type": "code",
   "execution_count": 90,
   "metadata": {},
   "outputs": [],
   "source": [
    "p = np.exp(S_matrix @ g)"
   ]
  },
  {
   "cell_type": "code",
   "execution_count": 92,
   "metadata": {},
   "outputs": [
    {
     "data": {
      "text/plain": [
       "array([ 0.02305325-6.16336856e-17j,  0.00243038-9.64589741e-03j,\n",
       "        0.00243038+9.64589741e-03j, -0.00350986+1.62851899e-02j,\n",
       "        0.01281934+3.84899618e-03j,  0.47673352+8.51890406e-02j,\n",
       "       -0.00350986-1.62851899e-02j,  0.47673352-8.51890406e-02j,\n",
       "        0.01281934-3.84899618e-03j])"
      ]
     },
     "execution_count": 92,
     "metadata": {},
     "output_type": "execute_result"
    }
   ],
   "source": [
    "# Imaginary probabilities\n",
    "p /= np.sum(p)\n",
    "p"
   ]
  },
  {
   "cell_type": "code",
   "execution_count": 63,
   "metadata": {},
   "outputs": [],
   "source": [
    "tmp = [[1,2,3], [2,3,4], [3,4,5]]"
   ]
  },
  {
   "cell_type": "code",
   "execution_count": 64,
   "metadata": {},
   "outputs": [],
   "source": [
    "current = tmp\n",
    "new = copy.deepcopy(current)\n",
    "new[0] = [44,55,66]"
   ]
  },
  {
   "cell_type": "code",
   "execution_count": 65,
   "metadata": {},
   "outputs": [],
   "source": [
    "tmp = new"
   ]
  },
  {
   "cell_type": "code",
   "execution_count": 66,
   "metadata": {},
   "outputs": [
    {
     "data": {
      "text/plain": [
       "[[44, 55, 66], [2, 3, 4], [3, 4, 5]]"
      ]
     },
     "execution_count": 66,
     "metadata": {},
     "output_type": "execute_result"
    }
   ],
   "source": [
    "tmp"
   ]
  },
  {
   "cell_type": "code",
   "execution_count": 67,
   "metadata": {},
   "outputs": [
    {
     "data": {
      "text/plain": [
       "[[1, 2, 3], [2, 3, 4], [3, 4, 5]]"
      ]
     },
     "execution_count": 67,
     "metadata": {},
     "output_type": "execute_result"
    }
   ],
   "source": [
    "current"
   ]
  },
  {
   "cell_type": "code",
   "execution_count": null,
   "metadata": {},
   "outputs": [],
   "source": []
  }
 ],
 "metadata": {
  "kernelspec": {
   "display_name": "mcm_discrete",
   "language": "python",
   "name": "python3"
  },
  "language_info": {
   "codemirror_mode": {
    "name": "ipython",
    "version": 3
   },
   "file_extension": ".py",
   "mimetype": "text/x-python",
   "name": "python",
   "nbconvert_exporter": "python",
   "pygments_lexer": "ipython3",
   "version": "3.11.5"
  }
 },
 "nbformat": 4,
 "nbformat_minor": 2
}
