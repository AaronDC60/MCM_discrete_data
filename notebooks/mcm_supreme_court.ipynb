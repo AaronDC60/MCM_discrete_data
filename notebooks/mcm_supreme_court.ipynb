{
 "cells": [
  {
   "cell_type": "markdown",
   "metadata": {},
   "source": [
    "## Minimally complex models for supreme court voting dataset"
   ]
  },
  {
   "cell_type": "code",
   "execution_count": 156,
   "metadata": {},
   "outputs": [],
   "source": [
    "# Imports\n",
    "\n",
    "import sys\n",
    "sys.path.insert(0, '../')\n",
    "from src.utils import *\n",
    "from src.mcm import mcm"
   ]
  },
  {
   "cell_type": "code",
   "execution_count": 157,
   "metadata": {},
   "outputs": [],
   "source": [
    "model = mcm('../data/SC_voting/US_SupremeCourt_n9_N895.txt')"
   ]
  },
  {
   "cell_type": "code",
   "execution_count": 158,
   "metadata": {},
   "outputs": [
    {
     "name": "stdout",
     "output_type": "stream",
     "text": [
      "Evidence:  -5258.100240438084\n"
     ]
    }
   ],
   "source": [
    "# Evidence of IM with original basis (Should be -5258)\n",
    "print('Evidence: ', model.calc_log_evidence(model.mcms[-1]))"
   ]
  },
  {
   "cell_type": "code",
   "execution_count": 6,
   "metadata": {},
   "outputs": [
    {
     "name": "stdout",
     "output_type": "stream",
     "text": [
      "MCM:  [[0, 2, 3, 4, 6], [1, 5, 7, 8]]\n",
      "Evidence:  -3300.395469673639\n"
     ]
    }
   ],
   "source": [
    "# Finding best MCM in original basis (Should be [[0, 2, 3, 4, 6], [1, 5, 7, 8]] with evidence -3300.4)\n",
    "model.find_best_mcm()\n",
    "print('MCM: ', model.best_mcm)\n",
    "print('Evidence: ', model.best_evidence)"
   ]
  },
  {
   "cell_type": "code",
   "execution_count": 159,
   "metadata": {},
   "outputs": [
    {
     "name": "stdout",
     "output_type": "stream",
     "text": [
      "IM:  [72, 160, 384, 17, 65, 5, 130, 260, 64]\n",
      "Evidence:  -3327.079945846724\n"
     ]
    }
   ],
   "source": [
    "# Finding the best IM (Should be [72, 160, 384, 17, 65, 5, 130, 260, 64] with evidence -3327)\n",
    "model.find_best_im()\n",
    "print('IM: ', model.best_im)\n",
    "model.transform_data()\n",
    "print('Evidence: ', model.calc_log_evidence(model.mcms[-1]))"
   ]
  },
  {
   "cell_type": "code",
   "execution_count": 9,
   "metadata": {},
   "outputs": [
    {
     "name": "stdout",
     "output_type": "stream",
     "text": [
      "MCM:  [[0], [1, 2, 6], [3, 4, 5, 7, 8]]\n",
      "Evidence:  -3154.421230299754\n"
     ]
    }
   ],
   "source": [
    "# Finding best MCM in optimal basis (Should be [[0], [1, 2, 6], [3, 4, 5, 7, 8]] with evidence -3154.4)\n",
    "model.find_best_mcm()\n",
    "print('MCM: ', model.best_mcm)\n",
    "print('Evidence: ', model.best_evidence)"
   ]
  },
  {
   "cell_type": "markdown",
   "metadata": {},
   "source": [
    "#### Greedy search"
   ]
  },
  {
   "cell_type": "code",
   "execution_count": 142,
   "metadata": {},
   "outputs": [],
   "source": [
    "# Generate all operators upto order k\n",
    "k = 2\n",
    "all_ops = generate_ops_upto_order_n(model.n_var, k)"
   ]
  },
  {
   "cell_type": "code",
   "execution_count": 143,
   "metadata": {},
   "outputs": [],
   "source": [
    "# Find the n most biased operator\n",
    "\n",
    "# Array with the spinoperators in the best IM\n",
    "im = []\n",
    "# Complete model that can be formed with the IM \n",
    "model_im = []\n",
    "for _ in range(model.n_var):\n",
    "    max_bias = 0\n",
    "    most_bias_op = all_ops[0]\n",
    "\n",
    "    # Loop over all available operators\n",
    "    for op in all_ops:\n",
    "        # Calculate bias of the operator\n",
    "        current_bias = model.calc_bias(op)\n",
    "        # Check if this is max biased operator so far\n",
    "        if current_bias > max_bias:\n",
    "            most_bias_op = op\n",
    "            max_bias = current_bias\n",
    "\n",
    "    # Add most biased operator to the best IM\n",
    "    im.append(most_bias_op)\n",
    "    model_im.append(most_bias_op)\n",
    "    all_ops = np.delete(all_ops, np.where(all_ops == most_bias_op))\n",
    "\n",
    "    # Filter out operators that are not independent from operators in IM basis\n",
    "    for op in model_im[:]:\n",
    "        comb_op = op^most_bias_op\n",
    "        model_im.append(comb_op)\n",
    "        all_ops = np.delete(all_ops, np.where(all_ops == comb_op))"
   ]
  },
  {
   "cell_type": "code",
   "execution_count": 144,
   "metadata": {},
   "outputs": [
    {
     "data": {
      "text/plain": [
       "[72, 160, 384, 17, 65, 5, 130, 260, 64]"
      ]
     },
     "execution_count": 144,
     "metadata": {},
     "output_type": "execute_result"
    }
   ],
   "source": [
    "im"
   ]
  },
  {
   "cell_type": "code",
   "execution_count": 145,
   "metadata": {},
   "outputs": [],
   "source": [
    "# GT of the data\n",
    "model.transform_data(im)"
   ]
  },
  {
   "cell_type": "code",
   "execution_count": 146,
   "metadata": {},
   "outputs": [],
   "source": [
    "all_ops = generate_ops_upto_order_n(model.n_var, k)\n",
    "# Find the n most biased operator\n",
    "\n",
    "# Array with the spinoperators in the best IM\n",
    "im = []\n",
    "# Complete model that can be formed with the IM \n",
    "model_im = []\n",
    "for _ in range(model.n_var):\n",
    "    max_bias = 0\n",
    "    most_bias_op = all_ops[0]\n",
    "\n",
    "    # Loop over all available operators\n",
    "    for op in all_ops:\n",
    "        # Calculate bias of the operator\n",
    "        current_bias = model.calc_bias(op)\n",
    "        # Check if this is max biased operator so far\n",
    "        if current_bias > max_bias:\n",
    "            most_bias_op = op\n",
    "            max_bias = current_bias\n",
    "\n",
    "    # Add most biased operator to the best IM\n",
    "    im.append(most_bias_op)\n",
    "    model_im.append(most_bias_op)\n",
    "    all_ops = np.delete(all_ops, np.where(all_ops == most_bias_op))\n",
    "\n",
    "    # Filter out operators that are not independent from operators in IM basis\n",
    "    for op in model_im[:]:\n",
    "        comb_op = op^most_bias_op\n",
    "        model_im.append(comb_op)\n",
    "        all_ops = np.delete(all_ops, np.where(all_ops == comb_op))"
   ]
  },
  {
   "cell_type": "code",
   "execution_count": 147,
   "metadata": {},
   "outputs": [
    {
     "data": {
      "text/plain": [
       "[1, 2, 4, 8, 16, 32, 64, 128, 256]"
      ]
     },
     "execution_count": 147,
     "metadata": {},
     "output_type": "execute_result"
    }
   ],
   "source": [
    "im"
   ]
  },
  {
   "cell_type": "code",
   "execution_count": 179,
   "metadata": {},
   "outputs": [],
   "source": [
    "# Best MCM using hierarchical merging procedure\n",
    "\n",
    "# Start with best IM\n",
    "start_mcm = model.mcms[-1] \n",
    "\n",
    "best_ev = model.calc_log_evidence(start_mcm)\n"
   ]
  },
  {
   "cell_type": "code",
   "execution_count": 180,
   "metadata": {},
   "outputs": [
    {
     "name": "stdout",
     "output_type": "stream",
     "text": [
      "[[0], [1], [2], [3], [4], [5], [6], [7], [8]] -3327.079945846724\n",
      "[[0], [1], [2], [3, 5], [4], [6], [7], [8]] -3288.1697657598957\n",
      "[[0], [1, 2], [3, 5], [4], [6], [7], [8]] -3257.8933011552176\n",
      "[[0], [1, 2, 6], [3, 5], [4], [7], [8]] -3228.3886812667183\n",
      "[[0, 4], [1, 2, 6], [3, 5], [7], [8]] -3207.643778254081\n",
      "[[0, 4], [1, 2, 6, 7], [3, 5], [8]] -3188.9849677119305\n",
      "[[0, 4, 3, 5], [1, 2, 6, 7], [8]] -3172.0943946081766\n",
      "[[0, 4, 3, 5], [1, 2, 6, 7, 8]] -3163.252527450342\n"
     ]
    }
   ],
   "source": [
    "# Generate all combinations in which 2 ICCs are merged\n",
    "\n",
    "best_mcm = [start_mcm[i] for i in range(len(start_mcm))]\n",
    "\n",
    "while len(start_mcm) > 1:\n",
    "    print(start_mcm, best_ev)\n",
    "    n = len(start_mcm)\n",
    "    for i in range(n):\n",
    "        for j in range(i+1, n):\n",
    "            # Start with current MCM\n",
    "            new_mcm = [start_mcm[i] for i in range(len(start_mcm))]\n",
    "            # Concatenate two ICCs\n",
    "            new_mcm[i] = [k for l in [new_mcm[i], new_mcm[j]] for k in l]\n",
    "            del new_mcm[j]\n",
    "\n",
    "            ev = model.calc_log_evidence(new_mcm)\n",
    "            if ev > best_ev:\n",
    "                best_mcm = [new_mcm[i] for i in range(len(new_mcm))]\n",
    "                best_ev = ev\n",
    "\n",
    "    # Stop procedure if start MCM is the best one\n",
    "    if best_mcm == start_mcm:\n",
    "        break\n",
    "\n",
    "    else:\n",
    "        start_mcm = [best_mcm[i] for i in range(len(best_mcm))]\n"
   ]
  },
  {
   "cell_type": "code",
   "execution_count": 186,
   "metadata": {},
   "outputs": [
    {
     "data": {
      "text/plain": [
       "-3176.3645149639074"
      ]
     },
     "execution_count": 186,
     "metadata": {},
     "output_type": "execute_result"
    }
   ],
   "source": [
    "model.calc_log_evidence([[0, 4, 3, 5, 8], [1, 2, 6, 7]])"
   ]
  }
 ],
 "metadata": {
  "kernelspec": {
   "display_name": "mcm_discrete",
   "language": "python",
   "name": "python3"
  },
  "language_info": {
   "codemirror_mode": {
    "name": "ipython",
    "version": 3
   },
   "file_extension": ".py",
   "mimetype": "text/x-python",
   "name": "python",
   "nbconvert_exporter": "python",
   "pygments_lexer": "ipython3",
   "version": "3.11.5"
  }
 },
 "nbformat": 4,
 "nbformat_minor": 2
}
