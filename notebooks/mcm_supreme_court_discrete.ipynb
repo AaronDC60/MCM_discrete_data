{
 "cells": [
  {
   "cell_type": "markdown",
   "metadata": {},
   "source": [
    "### Finding best Minimally Complex model for supreme court voting dataset using array representation"
   ]
  },
  {
   "cell_type": "code",
   "execution_count": 1,
   "metadata": {},
   "outputs": [],
   "source": [
    "# Imports\n",
    "import sys\n",
    "sys.path.insert(0, '../')\n",
    "from src.utils import *\n",
    "from src.mcm_discrete import mcm"
   ]
  },
  {
   "cell_type": "markdown",
   "metadata": {},
   "source": [
    "#### Assume there are two states (q=2)"
   ]
  },
  {
   "cell_type": "code",
   "execution_count": 2,
   "metadata": {},
   "outputs": [],
   "source": [
    "model = mcm('../data/SC_voting/US_SupremeCourt_n9_N895.txt', n_states=2)"
   ]
  },
  {
   "cell_type": "code",
   "execution_count": 3,
   "metadata": {},
   "outputs": [
    {
     "name": "stdout",
     "output_type": "stream",
     "text": [
      "Independent model in the original basis\n",
      "Evidence:  -5258.100240438084\n"
     ]
    }
   ],
   "source": [
    "# Evidence of IM with original basis (Should be -5258)\n",
    "print('Independent model in the original basis')\n",
    "print('Evidence: ', model.calc_log_evidence(model.mcms[-1]))"
   ]
  },
  {
   "cell_type": "code",
   "execution_count": 4,
   "metadata": {},
   "outputs": [
    {
     "name": "stdout",
     "output_type": "stream",
     "text": [
      "Best MCM in original basis (Exhaustive search)\n",
      "MCM:  [[0, 2, 3, 4, 6], [1, 5, 7, 8]]\n",
      "Evidence:  -3300.3954696736364\n"
     ]
    }
   ],
   "source": [
    "# Finding best MCM in original basis (Should be [[0, 2, 3, 4, 6], [1, 5, 7, 8]] with evidence -3300.4)\n",
    "model.find_best_mcm()\n",
    "print('Best MCM in original basis (Exhaustive search)')\n",
    "print('MCM: ', model.best_mcm)\n",
    "print('Evidence: ', model.best_evidence)"
   ]
  },
  {
   "cell_type": "code",
   "execution_count": 17,
   "metadata": {},
   "outputs": [
    {
     "name": "stdout",
     "output_type": "stream",
     "text": [
      "Best MCM in original basis (Greedy search)\n",
      "MCM:  [[0, 4, 2, 3, 6], [1, 5, 7, 8]]\n",
      "Evidence:  -3300.967834616564\n"
     ]
    }
   ],
   "source": [
    "# Finding best MCM in original basis using a Greedy search (Should be [[0, 2, 3, 4, 6], [1, 5, 7, 8]] with evidence -3300.4)\n",
    "model.find_best_mcm(method='greedy')\n",
    "print('Best MCM in original basis (Greedy search)')\n",
    "print('MCM: ', model.best_mcm)\n",
    "print('Evidence: ', model.best_evidence)"
   ]
  },
  {
   "cell_type": "markdown",
   "metadata": {},
   "source": [
    "#### Assume there are three states (but only two occur) (q=3)"
   ]
  },
  {
   "cell_type": "code",
   "execution_count": 18,
   "metadata": {},
   "outputs": [],
   "source": [
    "model = mcm('../data/SC_voting/US_SupremeCourt_n9_N895.txt', n_states=3)"
   ]
  },
  {
   "cell_type": "code",
   "execution_count": 19,
   "metadata": {},
   "outputs": [
    {
     "name": "stdout",
     "output_type": "stream",
     "text": [
      "Independent model in the original basis\n",
      "Evidence:  -5294.9280413412225\n"
     ]
    }
   ],
   "source": [
    "# Evidence of IM with original basis (Should be -5258 when q=2)\n",
    "print('Independent model in the original basis')\n",
    "print('Evidence: ', model.calc_log_evidence(model.mcms[-1]))"
   ]
  },
  {
   "cell_type": "code",
   "execution_count": 20,
   "metadata": {},
   "outputs": [
    {
     "name": "stdout",
     "output_type": "stream",
     "text": [
      "Best MCM in original basis (Exhaustive search)\n",
      "MCM:  [[0, 2, 4], [1, 5, 7, 8], [3, 6]]\n",
      "Evidence:  -3777.5428394892297\n"
     ]
    }
   ],
   "source": [
    "# Finding best MCM in original basis (Should be [[0, 2, 3, 4, 6], [1, 5, 7, 8]] with evidence -3300.4 when q = 2)\n",
    "model.find_best_mcm()\n",
    "print('Best MCM in original basis (Exhaustive search)')\n",
    "print('MCM: ', model.best_mcm)\n",
    "print('Evidence: ', model.best_evidence)"
   ]
  },
  {
   "cell_type": "code",
   "execution_count": 21,
   "metadata": {},
   "outputs": [
    {
     "name": "stdout",
     "output_type": "stream",
     "text": [
      "Best MCM in original basis (Greedy search)\n",
      "MCM:  [[0, 4, 2], [1, 5, 7, 8], [3, 6]]\n",
      "Evidence:  -3777.5428394892297\n"
     ]
    }
   ],
   "source": [
    "# Finding best MCM in original basis using a Greedy search (Should be [[0, 2, 3, 4, 6], [1, 5, 7, 8]] with evidence -3300.4 when q = 2)\n",
    "model.find_best_mcm(method='greedy')\n",
    "print('Best MCM in original basis (Greedy search)')\n",
    "print('MCM: ', model.best_mcm)\n",
    "print('Evidence: ', model.best_evidence)"
   ]
  }
 ],
 "metadata": {
  "kernelspec": {
   "display_name": "mcm_discrete",
   "language": "python",
   "name": "python3"
  },
  "language_info": {
   "codemirror_mode": {
    "name": "ipython",
    "version": 3
   },
   "file_extension": ".py",
   "mimetype": "text/x-python",
   "name": "python",
   "nbconvert_exporter": "python",
   "pygments_lexer": "ipython3",
   "version": "3.11.7"
  }
 },
 "nbformat": 4,
 "nbformat_minor": 2
}
