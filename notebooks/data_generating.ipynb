{
 "cells": [
  {
   "cell_type": "markdown",
   "metadata": {},
   "source": [
    "#### Generating data from a discrete model"
   ]
  },
  {
   "cell_type": "code",
   "execution_count": 1,
   "metadata": {},
   "outputs": [],
   "source": [
    "# Imports\n",
    "import numpy as np"
   ]
  },
  {
   "cell_type": "code",
   "execution_count": 2,
   "metadata": {},
   "outputs": [],
   "source": [
    "# Settings\n",
    "q = 3\n",
    "n = 2"
   ]
  },
  {
   "cell_type": "code",
   "execution_count": 3,
   "metadata": {},
   "outputs": [],
   "source": [
    "# Function to construct spin operator matrix\n",
    "def construct_s(q):\n",
    "    S = np.ones((q, q), dtype=complex)\n",
    "    for i in range(q):\n",
    "        for j in range(i, q):\n",
    "            S[i,j] = np.exp(((i*j)*2j*np.pi) / q)\n",
    "            S[j,i] = S[i,j]\n",
    "    return S"
   ]
  },
  {
   "cell_type": "code",
   "execution_count": 4,
   "metadata": {},
   "outputs": [],
   "source": [
    "# Perform kronecker product to get q**n x q**n matrix\n",
    "S = construct_s(q)\n",
    "S_matrix = np.copy(S)\n",
    "for _ in range(n-1):\n",
    "    S_matrix = np.kron(S_matrix, S)"
   ]
  },
  {
   "cell_type": "markdown",
   "metadata": {},
   "source": [
    "The vector $\\mathbf{g}$ has values for 9 different interactions:\n",
    "\n",
    "$\\mathbf{g} = (g_{00}, g_{01}, g_{02}, g_{10}, g_{11}, g_{12}, g_{20}, g_{21}, g_{22})$"
   ]
  },
  {
   "cell_type": "markdown",
   "metadata": {},
   "source": [
    "##### Only zeroth interaction"
   ]
  },
  {
   "cell_type": "code",
   "execution_count": 22,
   "metadata": {},
   "outputs": [],
   "source": [
    "# Must be real to get real probabilities\n",
    "g = np.zeros(q**n)\n",
    "g[0] = 1"
   ]
  },
  {
   "cell_type": "code",
   "execution_count": 23,
   "metadata": {},
   "outputs": [
    {
     "data": {
      "text/plain": [
       "(array([0.11111111, 0.11111111, 0.11111111, 0.11111111, 0.11111111,\n",
       "        0.11111111, 0.11111111, 0.11111111, 0.11111111]),\n",
       " array([0., 0., 0., 0., 0., 0., 0., 0., 0.]))"
      ]
     },
     "execution_count": 23,
     "metadata": {},
     "output_type": "execute_result"
    }
   ],
   "source": [
    "p = np.exp(S_matrix @ g)\n",
    "p /= np.sum(p)\n",
    "p.real, p.imag"
   ]
  },
  {
   "cell_type": "markdown",
   "metadata": {},
   "source": [
    "Equal probabilities for all states if we only have $g_{00}$"
   ]
  },
  {
   "cell_type": "markdown",
   "metadata": {},
   "source": [
    "#### Only first order interaction (on the second spin)"
   ]
  },
  {
   "cell_type": "code",
   "execution_count": 46,
   "metadata": {},
   "outputs": [],
   "source": [
    "# Only a positive real part\n",
    "g = np.zeros(q**n, dtype=complex)\n",
    "g[1] = 2\n",
    "g[2] = 2"
   ]
  },
  {
   "cell_type": "code",
   "execution_count": 47,
   "metadata": {},
   "outputs": [
    {
     "data": {
      "text/plain": [
       "array([0.33168898, 0.00082217, 0.00082217, 0.33168898, 0.00082217,\n",
       "       0.00082217, 0.33168898, 0.00082217, 0.00082217])"
      ]
     },
     "execution_count": 47,
     "metadata": {},
     "output_type": "execute_result"
    }
   ],
   "source": [
    "p = np.exp(S_matrix @ g)\n",
    "p /= np.sum(p)\n",
    "p.real"
   ]
  },
  {
   "cell_type": "markdown",
   "metadata": {},
   "source": [
    "Increased probability for states $\\mathbf{\\alpha} = \\{ (0,0), (1,0), (2,0)\\}$ <br>\n",
    "These are states where spin 2 is equal to 0. "
   ]
  },
  {
   "cell_type": "code",
   "execution_count": 48,
   "metadata": {},
   "outputs": [],
   "source": [
    "# Only a negative real part\n",
    "g = np.zeros(q**n, dtype=complex)\n",
    "g[1] = -2\n",
    "g[2] = -2"
   ]
  },
  {
   "cell_type": "code",
   "execution_count": 49,
   "metadata": {},
   "outputs": [
    {
     "data": {
      "text/plain": [
       "array([0.00041261, 0.16646036, 0.16646036, 0.00041261, 0.16646036,\n",
       "       0.16646036, 0.00041261, 0.16646036, 0.16646036])"
      ]
     },
     "execution_count": 49,
     "metadata": {},
     "output_type": "execute_result"
    }
   ],
   "source": [
    "p = np.exp(S_matrix @ g)\n",
    "p /= np.sum(p)\n",
    "p.real"
   ]
  },
  {
   "cell_type": "markdown",
   "metadata": {},
   "source": [
    "Decreased probability for states $\\mathbf{\\alpha} = \\{ (0,0), (1,0), (2,0)\\}$ <br>\n",
    "These are states where spin 2 is equal to 0. "
   ]
  },
  {
   "cell_type": "code",
   "execution_count": 50,
   "metadata": {},
   "outputs": [],
   "source": [
    "# A positive real part with complex part (positive for 1 and negative for 2)\n",
    "g = np.zeros(q**n, dtype=complex)\n",
    "g[1] = 1 + 1j\n",
    "g[2] = 1 - 1j"
   ]
  },
  {
   "cell_type": "code",
   "execution_count": 51,
   "metadata": {},
   "outputs": [
    {
     "data": {
      "text/plain": [
       "array([0.25835457, 0.00227569, 0.07270308, 0.25835457, 0.00227569,\n",
       "       0.07270308, 0.25835457, 0.00227569, 0.07270308])"
      ]
     },
     "execution_count": 51,
     "metadata": {},
     "output_type": "execute_result"
    }
   ],
   "source": [
    "p = np.exp(S_matrix @ g)\n",
    "p /= np.sum(p)\n",
    "p.real"
   ]
  },
  {
   "cell_type": "markdown",
   "metadata": {},
   "source": [
    "High probability for states $\\mathbf{\\alpha} = \\{ (0,0), (1,0), (2,0)\\}$ <br>\n",
    "These are states where spin 2 is equal to 0. <br>\n",
    "\n",
    "Medium probability for states $\\mathbf{\\alpha} = \\{ (0,2), (1,2), (2,2)\\}$ <br>\n",
    "These are states where spin 2 is equal to 2. <br>\n",
    "\n",
    "Low probability for states $\\mathbf{\\alpha} = \\{ (0,1), (1,1), (2,1)\\}$ <br>\n",
    "These are states where spin 2 is equal to 1. <br>"
   ]
  },
  {
   "cell_type": "code",
   "execution_count": 52,
   "metadata": {},
   "outputs": [],
   "source": [
    "# A positive real part with complex part (negative for 1 and positive for 2)\n",
    "g = np.zeros(q**n, dtype=complex)\n",
    "g[1] = 1 - 1j\n",
    "g[2] = 1 + 1j"
   ]
  },
  {
   "cell_type": "code",
   "execution_count": 53,
   "metadata": {},
   "outputs": [
    {
     "data": {
      "text/plain": [
       "array([0.25835457, 0.07270308, 0.00227569, 0.25835457, 0.07270308,\n",
       "       0.00227569, 0.25835457, 0.07270308, 0.00227569])"
      ]
     },
     "execution_count": 53,
     "metadata": {},
     "output_type": "execute_result"
    }
   ],
   "source": [
    "p = np.exp(S_matrix @ g)\n",
    "p /= np.sum(p)\n",
    "p.real"
   ]
  },
  {
   "cell_type": "markdown",
   "metadata": {},
   "source": [
    "High probability for states $\\mathbf{\\alpha} = \\{ (0,0), (1,0), (2,0)\\}$ <br>\n",
    "These are states where spin 2 is equal to 0. <br>\n",
    "\n",
    "Medium probability for states $\\mathbf{\\alpha} = \\{ (0,1), (1,1), (2,1)\\}$ <br>\n",
    "These are states where spin 2 is equal to 1. <br>\n",
    "\n",
    "Low probability for states $\\mathbf{\\alpha} = \\{ (0,2), (1,2), (2,2)\\}$ <br>\n",
    "These are states where spin 2 is equal to 2. <br>"
   ]
  },
  {
   "cell_type": "code",
   "execution_count": 58,
   "metadata": {},
   "outputs": [],
   "source": [
    "# Only complex part (positive for 1 and negative for 2)\n",
    "g = np.zeros(q**n, dtype=complex)\n",
    "g[1] = 1.5j\n",
    "g[2] = -1.5j"
   ]
  },
  {
   "cell_type": "code",
   "execution_count": 59,
   "metadata": {},
   "outputs": [
    {
     "data": {
      "text/plain": [
       "array([0.02296906, 0.00170928, 0.308655  , 0.02296906, 0.00170928,\n",
       "       0.308655  , 0.02296906, 0.00170928, 0.308655  ])"
      ]
     },
     "execution_count": 59,
     "metadata": {},
     "output_type": "execute_result"
    }
   ],
   "source": [
    "p = np.exp(S_matrix @ g)\n",
    "p /= np.sum(p)\n",
    "p.real"
   ]
  },
  {
   "cell_type": "code",
   "execution_count": 62,
   "metadata": {},
   "outputs": [],
   "source": [
    "# Only complex part (negative for 1 and positive for 2)\n",
    "g = np.zeros(q**n, dtype=complex)\n",
    "g[1] = -1.5j\n",
    "g[2] = 1.5j"
   ]
  },
  {
   "cell_type": "code",
   "execution_count": 63,
   "metadata": {},
   "outputs": [
    {
     "data": {
      "text/plain": [
       "array([0.02296906, 0.308655  , 0.00170928, 0.02296906, 0.308655  ,\n",
       "       0.00170928, 0.02296906, 0.308655  , 0.00170928])"
      ]
     },
     "execution_count": 63,
     "metadata": {},
     "output_type": "execute_result"
    }
   ],
   "source": [
    "p = np.exp(S_matrix @ g)\n",
    "p /= np.sum(p)\n",
    "p.real"
   ]
  },
  {
   "cell_type": "markdown",
   "metadata": {},
   "source": [
    "##### Conclusion: Effect of the value of the interaction strength on the probability of the different states.\n",
    "\n",
    "Real part: increases/decreases probability of the state being equal to 0 if positive/negative <br>\n",
    "Imaginary part: increases/decreases the probability of the state begin equal to 1 (for $g_{01}$) if negative/positive"
   ]
  },
  {
   "cell_type": "markdown",
   "metadata": {},
   "source": [
    "#### Second order interaction"
   ]
  },
  {
   "cell_type": "markdown",
   "metadata": {},
   "source": [
    "##### $g_{11}$ and $g_{22}$"
   ]
  },
  {
   "cell_type": "code",
   "execution_count": 73,
   "metadata": {},
   "outputs": [],
   "source": [
    "# Only a positive real part\n",
    "g = np.zeros(q**n, dtype=complex)\n",
    "g[4] = 2\n",
    "g[8] = 2"
   ]
  },
  {
   "cell_type": "code",
   "execution_count": 74,
   "metadata": {},
   "outputs": [
    {
     "data": {
      "text/plain": [
       "array([0.33168898, 0.00082217, 0.00082217, 0.00082217, 0.00082217,\n",
       "       0.33168898, 0.00082217, 0.33168898, 0.00082217])"
      ]
     },
     "execution_count": 74,
     "metadata": {},
     "output_type": "execute_result"
    }
   ],
   "source": [
    "p = np.exp(S_matrix @ g)\n",
    "p /= np.sum(p)\n",
    "p.real"
   ]
  },
  {
   "cell_type": "markdown",
   "metadata": {},
   "source": [
    "Increased probability for states $\\mathbf{\\alpha} = \\{ (0,0), (1,2), (2,1)\\}$ <br>\n",
    "(Sum is equal to 0 mod q, value of 1 in the spin operator matrix)"
   ]
  },
  {
   "cell_type": "code",
   "execution_count": 84,
   "metadata": {},
   "outputs": [],
   "source": [
    "# Only a complex part (positive for g11, negative for g22)\n",
    "g = np.zeros(q**n, dtype=complex)\n",
    "g[4] = 1j\n",
    "g[8] = -1j"
   ]
  },
  {
   "cell_type": "code",
   "execution_count": 87,
   "metadata": {},
   "outputs": [
    {
     "data": {
      "text/plain": [
       "array([0.04881033, 0.00863558, 0.27588742, 0.00863558, 0.27588742,\n",
       "       0.04881033, 0.27588742, 0.04881033, 0.00863558])"
      ]
     },
     "execution_count": 87,
     "metadata": {},
     "output_type": "execute_result"
    }
   ],
   "source": [
    "p = np.exp(S_matrix @ g)\n",
    "p /= np.sum(p)\n",
    "p.real"
   ]
  },
  {
   "cell_type": "markdown",
   "metadata": {},
   "source": [
    "Increased probability for states $\\mathbf{\\alpha} = \\{ (0,2), (1,1), (2,0)\\}$ <br>\n",
    "Decreased probability for states $\\mathbf{\\alpha} = \\{ (0,1), (1,0), (2,2)\\}$ <br>\n",
    "\n",
    "Probability increase for states with sum equal to 2 mod q <br>\n",
    "Probability decrease for states with sum equal to 1 mod q\n"
   ]
  },
  {
   "cell_type": "markdown",
   "metadata": {},
   "source": [
    "##### Conclusion:\n",
    "\n",
    "States $\\mathbf{\\alpha}$ for which $\\phi(\\mathbf{\\alpha})$ is zero, will have an increased/decreased probability if the real part of strength parameter for that interaction is positive/negative <br>\n",
    "States $\\mathbf{\\alpha}$ for which $\\phi(\\mathbf{\\alpha})$ is $e^{2\\pi/3}$, will have an increased/decreased probability if the imaginary part of strength parameter for that interaction is negative/positive <br> \n",
    "States $\\mathbf{\\alpha}$ for which $\\phi(\\mathbf{\\alpha})$ is $e^{-2\\pi/3}$, will have an increased/decreased probability if the imaginary part of strength parameter for that interaction is positive/negative <br> "
   ]
  }
 ],
 "metadata": {
  "kernelspec": {
   "display_name": "mcm_discrete",
   "language": "python",
   "name": "python3"
  },
  "language_info": {
   "codemirror_mode": {
    "name": "ipython",
    "version": 3
   },
   "file_extension": ".py",
   "mimetype": "text/x-python",
   "name": "python",
   "nbconvert_exporter": "python",
   "pygments_lexer": "ipython3",
   "version": "3.11.7"
  }
 },
 "nbformat": 4,
 "nbformat_minor": 2
}
